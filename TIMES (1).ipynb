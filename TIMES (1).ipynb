{
 "cells": [
  {
   "cell_type": "code",
   "execution_count": 0,
   "metadata": {
    "application/vnd.databricks.v1+cell": {
     "cellMetadata": {
      "byteLimit": 2048000,
      "rowLimit": 10000
     },
     "inputWidgets": {},
     "nuid": "415d9fe6-44b8-44da-b3a8-4379aaa1f7a3",
     "showTitle": false,
     "title": ""
    }
   },
   "outputs": [
    {
     "output_type": "stream",
     "name": "stdout",
     "output_type": "stream",
     "text": [
      "/mnt/IkigaiGuide has been unmounted.\n"
     ]
    },
    {
     "output_type": "execute_result",
     "data": {
      "text/plain": [
       "True"
      ]
     },
     "execution_count": 1,
     "metadata": {},
     "output_type": "execute_result"
    }
   ],
   "source": [
    "# Unmount the storage\n",
    "dbutils.fs.unmount(\"/mnt/IkigaiGuide\")"
   ]
  },
  {
   "cell_type": "code",
   "execution_count": 0,
   "metadata": {
    "application/vnd.databricks.v1+cell": {
     "cellMetadata": {
      "byteLimit": 2048000,
      "rowLimit": 10000
     },
     "inputWidgets": {},
     "nuid": "6a7791df-d1af-4eae-9e0b-98f7b159932a",
     "showTitle": false,
     "title": ""
    }
   },
   "outputs": [
    {
     "output_type": "execute_result",
     "data": {
      "text/plain": [
       "True"
      ]
     },
     "execution_count": 2,
     "metadata": {},
     "output_type": "execute_result"
    }
   ],
   "source": [
    "dbutils.fs.mount(\n",
    "  source = \"wasbs://ikigai-guide-data@ikigaiguideunidata.blob.core.windows.net\",\n",
    "  mount_point = \"/mnt/IkigaiGuide\",\n",
    "  extra_configs = {\"fs.azure.account.key.ikigaiguideunidata.blob.core.windows.net\": \"+tu0bU1lIVTvT5xpfonfXJ6gJqH4a8pU8/MOTtGLD0l5Tkh/Qf8oGcyOvVBWCsoRzjiQ9cN6vOzb+AStfhQGmw==\"})\n"
   ]
  },
  {
   "cell_type": "code",
   "execution_count": 0,
   "metadata": {
    "application/vnd.databricks.v1+cell": {
     "cellMetadata": {
      "byteLimit": 2048000,
      "rowLimit": 10000
     },
     "inputWidgets": {},
     "nuid": "eb9efb6b-6ec0-4a63-b5f6-3b4002f37a80",
     "showTitle": false,
     "title": ""
    }
   },
   "outputs": [
    {
     "output_type": "display_data",
     "data": {
      "text/html": [
       "<style scoped>\n",
       "  .table-result-container {\n",
       "    max-height: 300px;\n",
       "    overflow: auto;\n",
       "  }\n",
       "  table, th, td {\n",
       "    border: 1px solid black;\n",
       "    border-collapse: collapse;\n",
       "  }\n",
       "  th, td {\n",
       "    padding: 5px;\n",
       "  }\n",
       "  th {\n",
       "    text-align: left;\n",
       "  }\n",
       "</style><div class='table-result-container'><table class='table-result'><thead style='background-color: white'><tr><th>path</th><th>name</th><th>size</th><th>modificationTime</th></tr></thead><tbody><tr><td>dbfs:/mnt/IkigaiGuide/ikigai-raw-data/</td><td>ikigai-raw-data/</td><td>0</td><td>0</td></tr><tr><td>dbfs:/mnt/IkigaiGuide/ikigai-transformed-data/</td><td>ikigai-transformed-data/</td><td>0</td><td>0</td></tr></tbody></table></div>"
      ]
     },
     "metadata": {
      "application/vnd.databricks.v1+output": {
       "addedWidgets": {},
       "aggData": [],
       "aggError": "",
       "aggOverflow": false,
       "aggSchema": [],
       "aggSeriesLimitReached": false,
       "aggType": "",
       "arguments": {},
       "columnCustomDisplayInfos": {},
       "data": [
        [
         "dbfs:/mnt/IkigaiGuide/ikigai-raw-data/",
         "ikigai-raw-data/",
         0,
         0
        ],
        [
         "dbfs:/mnt/IkigaiGuide/ikigai-transformed-data/",
         "ikigai-transformed-data/",
         0,
         0
        ]
       ],
       "datasetInfos": [],
       "dbfsResultPath": null,
       "isJsonSchema": true,
       "metadata": {},
       "overflow": false,
       "plotOptions": {
        "customPlotOptions": {},
        "displayType": "table",
        "pivotAggregation": null,
        "pivotColumns": null,
        "xColumns": null,
        "yColumns": null
       },
       "removedWidgets": [],
       "schema": [
        {
         "metadata": "{}",
         "name": "path",
         "type": "\"string\""
        },
        {
         "metadata": "{}",
         "name": "name",
         "type": "\"string\""
        },
        {
         "metadata": "{}",
         "name": "size",
         "type": "\"long\""
        },
        {
         "metadata": "{}",
         "name": "modificationTime",
         "type": "\"long\""
        }
       ],
       "type": "table"
      }
     },
     "output_type": "display_data"
    }
   ],
   "source": [
    "# List files in the mounted directory to verify the mount\n",
    "display(dbutils.fs.ls(\"/mnt/IkigaiGuide\"))\n"
   ]
  },
  {
   "cell_type": "code",
   "execution_count": 0,
   "metadata": {
    "application/vnd.databricks.v1+cell": {
     "cellMetadata": {
      "byteLimit": 2048000,
      "rowLimit": 10000
     },
     "inputWidgets": {},
     "nuid": "4e511abd-0aa6-45f1-825b-18c43ef6c145",
     "showTitle": false,
     "title": ""
    }
   },
   "outputs": [
    {
     "output_type": "stream",
     "name": "stdout",
     "output_type": "stream",
     "text": [
      "+----+--------------------+--------------+-------------------+---------------+--------------------+---------------+--------------------+----------------+---------------------+----------------------+---------------------------+----------------------------+---------------------------------+--------------+------------+--------------------+------+--------------+---------------------+-------------------------+----------------------+-----------------------+--------------------+--------------------+------+------------+--------+--------------------+\n|rank|                name|scores_overall|scores_overall_rank|scores_teaching|scores_teaching_rank|scores_research|scores_research_rank|scores_citations|scores_citations_rank|scores_industry_income|scores_industry_income_rank|scores_international_outlook|scores_international_outlook_rank|   record_type|member_level|                 url|   nid|      location|stats_number_students|stats_student_staff_ratio|stats_pc_intl_students|stats_female_male_ratio|             aliases|    subjects_offered|closed|unaccredited|disabled|         website_url|\n+----+--------------------+--------------+-------------------+---------------+--------------------+---------------+--------------------+----------------+---------------------+----------------------+---------------------------+----------------------------+---------------------------------+--------------+------------+--------------------+------+--------------+---------------------+-------------------------+----------------------+-----------------------+--------------------+--------------------+------+------------+--------+--------------------+\n|   1|University of Oxford|          98.5|                 10|           96.6|                   5|          100.0|                   2|            99.0|                    5|                  98.7|                         77|                        97.5|                               14|master_account|           0|/world-university...|   468|United Kingdom|               21,750|                     10.9|                   42%|                49 : 51|University of Oxford|Geography,Chemist...| false|       false|   false|https://www.times...|\n|   2| Stanford University|          98.0|                 20|           99.0|                   1|           97.8|                   8|            99.6|                    2|                 100.0|                         25|                        87.0|                              167|       private|           0|/world-university...|   467| United States|               14,517|                      6.4|                   23%|                47 : 53| Stanford University|Computer Science,...| false|       false|   false|                NULL|\n|   3|Massachusetts Ins...|          97.9|                 30|           98.6|                   2|           96.2|                  11|            99.7|                    1|                 100.0|                         16|                        93.8|                               66|       private|           0|/world-university...|   471| United States|               11,085|                      8.0|                   33%|                41 : 59|Massachusetts Ins...|Architecture,Econ...| false|       false|   false|https://www.times...|\n|   4|  Harvard University|          97.8|                 40|           97.7|                   3|           99.9|                   3|            99.4|                    3|                  84.2|                        216|                        90.8|                              119|       private|           0|/world-university...|   466| United States|               20,050|                      9.0|                   25%|                51 : 49|  Harvard University|Sociology,Archite...| false|       false|   false|https://www.times...|\n|   5|University of Cam...|          97.5|                 50|           95.8|                   7|          100.0|                   1|            98.0|                   12|                  87.9|                        180|                        97.4|                               15|master_account|           0|/world-university...|   470|United Kingdom|               20,565|                     11.5|                   38%|                48 : 52|University of Cam...|Politics & Intern...| false|       false|   false|https://www.times...|\n|   6|Princeton University|          96.9|                 60|           96.3|                   6|           97.9|                   7|            98.8|                    7|                  95.1|                        118|                        89.1|                              135|       private|           0|/world-university...|   469| United States|                7,753|                      7.3|                   23%|                47 : 53|Princeton University|History, Philosop...| false|       false|   false|https://www.times...|\n|   7|California Instit...|          96.5|                 70|           96.6|                   4|           98.0|                   6|            95.9|                   38|                 100.0|                          2|                        90.6|                              123|       private|           0|/world-university...|128779| United States|                2,240|                      6.1|                   33%|                37 : 63|California Instit...|Computer Science,...| false|       false|   false|https://www.times...|\n|   8|Imperial College ...|          95.1|                 80|           90.9|                  12|           95.5|                  12|            98.6|                    8|                  90.9|                        157|                        98.3|                                6|master_account|           0|/world-university...|   472|United Kingdom|               20,275|                     11.8|                   61%|                42 : 58|Imperial College ...|Computer Science,...| false|       false|   false|https://www.times...|\n|   9|University of Cal...|          94.6|                 90|           87.2|                  18|           98.8|                   4|            99.0|                    4|                  99.4|                         63|                        86.8|                              171|        public|           0|/world-university...|   474| United States|               39,991|                     17.9|                   22%|                52 : 48|University of Cal...|Chemistry,Electri...| false|       false|   false|https://www.times...|\n|  10|     Yale University|          94.2|                100|           94.0|                  10|           94.9|                  13|            97.7|                   18|                  86.5|                        192|                        82.4|                              216|       private|           0|/world-university...|   475| United States|               11,924|                      5.2|                   21%|                51 : 49|     Yale University|Law,Computer Scie...| false|       false|   false|https://www.times...|\n|  11|          ETH Zurich|          93.1|                110|           87.6|                  16|           96.8|                  10|            95.6|                   41|                  82.9|                        229|                        95.6|                               36|master_account|           0|/world-university...|   479|   Switzerland|               22,619|                     15.4|                   43%|                33 : 67|          ETH Zurich|Mechanical & Aero...| false|       false|   false|                NULL|\n|  12| Tsinghua University|          92.4|                120|           95.3|                   9|           98.1|                   5|            93.2|                   73|                  99.9|                         38|                        51.7|                              750|master_account|           0|/world-university...|   535|         China|               38,518|                     11.2|                   10%|                   NULL|Tsinghua Universi...|Mechanical & Aero...| false|       false|   false|                NULL|\n|  13|The University of...|          92.1|                130|           89.6|                  13|           91.2|                  19|            97.6|                   20|                  93.8|                        129|                        82.3|                              219|       private|           0|/world-university...|   473| United States|               15,792|                      6.2|                   36%|                47 : 53|The University of...|Chemistry,Languag...| false|       false|   false|                NULL|\n|  14|   Peking University|          91.8|                140|           95.6|                   8|           97.3|                   9|            87.2|                  172|                  98.8|                         72|                        70.2|                              404|master_account|           0|/world-university...|   514|         China|               33,064|                     10.9|                   14%|                   NULL|   Peking University|History, Philosop...| false|       false|   false|                NULL|\n|  15|Johns Hopkins Uni...|          91.1|                150|           84.4|                  23|           92.3|                  17|            97.2|                   27|                 100.0|                         11|                        84.2|                              198|       private|           0|/world-university...|   478| United States|               15,772|                      4.1|                   28%|                56 : 44|Johns Hopkins Uni...|Civil Engineering...| false|       false|   false|https://www.times...|\n|  16|University of Pen...|          91.0|                160|           87.7|                  15|           89.7|                  21|            97.6|                   23|                  97.7|                         90|                        78.8|                              268|       private|           0|/world-university...|   480| United States|               21,312|                      6.2|                   22%|                54 : 46|University of Pen...|Other Health,Phys...| false|       false|   false|https://www.times...|\n|  17| Columbia University|          90.9|                170|           88.6|                  14|           89.7|                  20|            97.4|                   25|                  75.2|                        332|                        86.9|                              168|       private|           0|/world-university...|   476| United States|               25,914|                      5.2|                   35%|                   NULL| Columbia University|Accounting & Fina...| false|       false|   false|https://www.times...|\n|  18|University of Cal...|          90.1|                180|           85.7|                  19|           91.9|                  18|            96.4|                   34|                  92.3|                        143|                        74.3|                              341|        public|           0|/world-university...|   477| United States|               42,634|                      9.6|                   15%|                56 : 44|University of Cal...|Electrical & Elec...| false|       false|   false|https://www.times...|\n|  19|National Universi...|          90.0|                190|           78.8|                  25|           94.0|                  16|            95.4|                   47|                 100.0|                         19|                        91.1|                              116|master_account|           6|/world-university...|   504|     Singapore|               33,334|                     20.0|                   24%|                49 : 51|National Universi...|Computer Science,...| false|       false|   false|                NULL|\n|  20|  Cornell University|          89.5|                200|           85.7|                  20|           88.7|                  22|            97.6|                   22|                  69.4|                        447|                        86.0|                              175|       private|           0|/world-university...|   484| United States|               23,620|                     10.0|                   24%|                51 : 49|  Cornell University|Electrical & Elec...| false|       false|   false|https://www.times...|\n+----+--------------------+--------------+-------------------+---------------+--------------------+---------------+--------------------+----------------+---------------------+----------------------+---------------------------+----------------------------+---------------------------------+--------------+------------+--------------------+------+--------------+---------------------+-------------------------+----------------------+-----------------------+--------------------+--------------------+------+------------+--------+--------------------+\nonly showing top 20 rows\n\n"
     ]
    }
   ],
   "source": [
    "# Adjusted file path to point to the specific file inside the ikigai-raw-data folder\n",
    "file_path = \"/mnt/IkigaiGuide/ikigai-raw-data/TIMES.csv\"\n",
    "\n",
    "# Load the dataset\n",
    "TIMES = spark.read.option(\"header\", \"true\").option(\"inferSchema\", \"true\").csv(file_path)\n",
    "\n",
    "# Display the first few rows of the DataFrame to understand its structure\n",
    "TIMES.show()\n"
   ]
  },
  {
   "cell_type": "code",
   "execution_count": 0,
   "metadata": {
    "application/vnd.databricks.v1+cell": {
     "cellMetadata": {
      "byteLimit": 2048000,
      "rowLimit": 10000
     },
     "inputWidgets": {},
     "nuid": "c581e697-2e50-45c6-95ff-636fbb9d4dff",
     "showTitle": false,
     "title": ""
    }
   },
   "outputs": [
    {
     "output_type": "execute_result",
     "data": {
      "text/plain": [
       "[('rank', 'string'),\n",
       " ('name', 'string'),\n",
       " ('scores_overall', 'string'),\n",
       " ('scores_overall_rank', 'int'),\n",
       " ('scores_teaching', 'string'),\n",
       " ('scores_teaching_rank', 'int'),\n",
       " ('scores_research', 'string'),\n",
       " ('scores_research_rank', 'int'),\n",
       " ('scores_citations', 'string'),\n",
       " ('scores_citations_rank', 'int'),\n",
       " ('scores_industry_income', 'string'),\n",
       " ('scores_industry_income_rank', 'int'),\n",
       " ('scores_international_outlook', 'string'),\n",
       " ('scores_international_outlook_rank', 'int'),\n",
       " ('record_type', 'string'),\n",
       " ('member_level', 'int'),\n",
       " ('url', 'string'),\n",
       " ('nid', 'int'),\n",
       " ('location', 'string'),\n",
       " ('stats_number_students', 'string'),\n",
       " ('stats_student_staff_ratio', 'double'),\n",
       " ('stats_pc_intl_students', 'string'),\n",
       " ('stats_female_male_ratio', 'string'),\n",
       " ('aliases', 'string'),\n",
       " ('subjects_offered', 'string'),\n",
       " ('closed', 'boolean'),\n",
       " ('unaccredited', 'boolean'),\n",
       " ('disabled', 'boolean'),\n",
       " ('website_url', 'string')]"
      ]
     },
     "execution_count": 5,
     "metadata": {},
     "output_type": "execute_result"
    }
   ],
   "source": [
    "# Display the data types of each column in the TIMES DataFrame\n",
    "TIMES.dtypes\n"
   ]
  },
  {
   "cell_type": "code",
   "execution_count": 0,
   "metadata": {
    "application/vnd.databricks.v1+cell": {
     "cellMetadata": {
      "byteLimit": 2048000,
      "rowLimit": 10000
     },
     "inputWidgets": {},
     "nuid": "fa8262ed-a843-4a86-92e4-9b4d8001fca0",
     "showTitle": false,
     "title": ""
    }
   },
   "outputs": [
    {
     "output_type": "stream",
     "name": "stdout",
     "output_type": "stream",
     "text": [
      "+----+----+--------------+-------------------+---------------+--------------------+---------------+--------------------+----------------+---------------------+----------------------+---------------------------+----------------------------+---------------------------------+-----------+------------+---+---+--------+---------------------+-------------------------+----------------------+-----------------------+-------+----------------+------+------------+--------+-----------+\n|rank|name|scores_overall|scores_overall_rank|scores_teaching|scores_teaching_rank|scores_research|scores_research_rank|scores_citations|scores_citations_rank|scores_industry_income|scores_industry_income_rank|scores_international_outlook|scores_international_outlook_rank|record_type|member_level|url|nid|location|stats_number_students|stats_student_staff_ratio|stats_pc_intl_students|stats_female_male_ratio|aliases|subjects_offered|closed|unaccredited|disabled|website_url|\n+----+----+--------------+-------------------+---------------+--------------------+---------------+--------------------+----------------+---------------------+----------------------+---------------------------+----------------------------+---------------------------------+-----------+------------+---+---+--------+---------------------+-------------------------+----------------------+-----------------------+-------+----------------+------+------------+--------+-----------+\n|   0|   0|             0|                  0|              0|                   0|              0|                   0|               0|                    0|                     0|                          0|                           0|                                0|          0|           0|  0|  0|       0|                    0|                        0|                     0|                     93|      0|               4|     0|           0|       0|       2329|\n+----+----+--------------+-------------------+---------------+--------------------+---------------+--------------------+----------------+---------------------+----------------------+---------------------------+----------------------------+---------------------------------+-----------+------------+---+---+--------+---------------------+-------------------------+----------------------+-----------------------+-------+----------------+------+------------+--------+-----------+\n\n"
     ]
    }
   ],
   "source": [
    "from pyspark.sql.functions import col, when, count\n",
    "\n",
    "# Count missing values for each column\n",
    "missing_value_counts = TIMES.select([\n",
    "    count(\n",
    "        when(\n",
    "            col(c).isNull() | (col(c) == \"\"), c\n",
    "        )\n",
    "    ).alias(c) for c in TIMES.columns\n",
    "])\n",
    "\n",
    "missing_value_counts.show()\n"
   ]
  },
  {
   "cell_type": "code",
   "execution_count": 0,
   "metadata": {
    "application/vnd.databricks.v1+cell": {
     "cellMetadata": {
      "byteLimit": 2048000,
      "rowLimit": 10000
     },
     "inputWidgets": {},
     "nuid": "05c98c84-df9c-4414-b486-febd69d18f3f",
     "showTitle": false,
     "title": ""
    }
   },
   "outputs": [
    {
     "output_type": "stream",
     "name": "stdout",
     "output_type": "stream",
     "text": [
      "+-----------------------+\n|stats_female_male_ratio|\n+-----------------------+\n|                49 : 51|\n|                47 : 53|\n|                41 : 59|\n|                51 : 49|\n|                48 : 52|\n|                47 : 53|\n|                37 : 63|\n|                42 : 58|\n|                52 : 48|\n|                51 : 49|\n|                33 : 67|\n|                55 : 45|\n|                47 : 53|\n|                55 : 45|\n|                56 : 44|\n|                54 : 46|\n|                55 : 45|\n|                56 : 44|\n|                49 : 51|\n|                51 : 49|\n+-----------------------+\nonly showing top 20 rows\n\n"
     ]
    }
   ],
   "source": [
    "from pyspark.sql.functions import col, lit\n",
    "from pyspark.sql.window import Window\n",
    "from pyspark.sql.functions import rank\n",
    "\n",
    "# Step 1: Calculate the mode\n",
    "mode_df = TIMES.groupBy(\"stats_female_male_ratio\").count()\\\n",
    "               .withColumn(\"rank\", rank().over(Window.orderBy(col(\"count\").desc())))\\\n",
    "               .filter(col(\"rank\") == 1).drop(\"rank\")\n",
    "\n",
    "mode_value = mode_df.collect()[0][\"stats_female_male_ratio\"]\n",
    "\n",
    "# Step 2: Fill missing values with the mode\n",
    "TIMES_filled = TIMES.na.fill({\"stats_female_male_ratio\": mode_value})\n",
    "\n",
    "# Verify the operation\n",
    "TIMES_filled.select(\"stats_female_male_ratio\").show()\n"
   ]
  },
  {
   "cell_type": "code",
   "execution_count": 0,
   "metadata": {
    "application/vnd.databricks.v1+cell": {
     "cellMetadata": {
      "byteLimit": 2048000,
      "rowLimit": 10000
     },
     "inputWidgets": {},
     "nuid": "8dfcf5fb-d614-4523-95c7-e8a1ba2be898",
     "showTitle": false,
     "title": ""
    }
   },
   "outputs": [
    {
     "output_type": "stream",
     "name": "stdout",
     "output_type": "stream",
     "text": [
      "+--------+--------------------+--------------+-------------------+---------------+--------------------+---------------+--------------------+----------------+---------------------+----------------------+---------------------------+----------------------------+---------------------------------+--------------+------------+--------------------+------+----------+---------------------+-------------------------+----------------------+-----------------------+--------------------+----------------+------+------------+--------+-----------+\n|    rank|                name|scores_overall|scores_overall_rank|scores_teaching|scores_teaching_rank|scores_research|scores_research_rank|scores_citations|scores_citations_rank|scores_industry_income|scores_industry_income_rank|scores_international_outlook|scores_international_outlook_rank|   record_type|member_level|                 url|   nid|  location|stats_number_students|stats_student_staff_ratio|stats_pc_intl_students|stats_female_male_ratio|             aliases|subjects_offered|closed|unaccredited|disabled|website_url|\n+--------+--------------------+--------------+-------------------+---------------+--------------------+---------------+--------------------+----------------+---------------------+----------------------+---------------------------+----------------------------+---------------------------------+--------------+------------+--------------------+------+----------+---------------------+-------------------------+----------------------+-----------------------+--------------------+----------------+------+------------+--------+-----------+\n|Reporter|University of Dji...|           n/a|            1000193|            n/a|                   0|            n/a|                   0|             n/a|                    0|                   n/a|                          0|                         n/a|                                0|master_account|           0|/world-university...|720257|   Algeria|               21,277|                     27.6|                    0%|                63 : 37|University of Dji...|            NULL| false|       false|   false|       NULL|\n|Reporter|École Nationale P...|           n/a|            1000207|            n/a|                   0|            n/a|                   0|             n/a|                    0|                   n/a|                          0|                         n/a|                                0|master_account|           0|/world-university...|720471|   Algeria|                2,004|                     12.8|                    0%|                32 : 68|École Nationale P...|            NULL| false|       false|   false|       NULL|\n|Reporter|Edwin Clark Unive...|           n/a|            1000230|            n/a|                   0|            n/a|                   0|             n/a|                    0|                   n/a|                          0|                         n/a|                                0|master_account|           0|/world-university...|723047|   Nigeria|                  775|                      9.9|                    0%|                60 : 40|Edwin Clark Unive...|            NULL| false|       false|   false|       NULL|\n|Reporter|Royal College of ...|           n/a|            1000583|            n/a|                   0|            n/a|                   0|             n/a|                    0|                   n/a|                          0|                         n/a|                                0|master_account|           0|/world-university...|725992|Luxembourg|               10,000|                    333.3|                  100%|                   NULL|Royal College of ...|            NULL| false|       false|   false|       NULL|\n+--------+--------------------+--------------+-------------------+---------------+--------------------+---------------+--------------------+----------------+---------------------+----------------------+---------------------------+----------------------------+---------------------------------+--------------+------------+--------------------+------+----------+---------------------+-------------------------+----------------------+-----------------------+--------------------+----------------+------+------------+--------+-----------+\n\n"
     ]
    }
   ],
   "source": [
    "# Filter the DataFrame to only include rows where 'subjects_offered' is null\n",
    "missing_subjects_offered = TIMES.filter(TIMES[\"subjects_offered\"].isNull())\n",
    "\n",
    "# Show the rows with missing 'subjects_offered' values\n",
    "missing_subjects_offered.show()\n"
   ]
  },
  {
   "cell_type": "code",
   "execution_count": 0,
   "metadata": {
    "application/vnd.databricks.v1+cell": {
     "cellMetadata": {
      "byteLimit": 2048000,
      "rowLimit": 10000
     },
     "inputWidgets": {},
     "nuid": "a4bf3de5-bc62-4d71-b063-a94b21ce655b",
     "showTitle": false,
     "title": ""
    }
   },
   "outputs": [
    {
     "output_type": "stream",
     "name": "stdout",
     "output_type": "stream",
     "text": [
      "Original count: 2673\nFiltered count: 2669\n"
     ]
    }
   ],
   "source": [
    "# Filter out rows where 'subjects_offered' is null\n",
    "TIMES_filtered = TIMES.filter(TIMES[\"subjects_offered\"].isNotNull())\n",
    "\n",
    "# Show the count of rows before and after to verify rows are excluded\n",
    "print(\"Original count:\", TIMES.count())\n",
    "print(\"Filtered count:\", TIMES_filtered.count())\n",
    "\n",
    "# You can continue working with TIMES_filtered as your DataFrame without the missing 'subjects_offered' records.\n"
   ]
  },
  {
   "cell_type": "code",
   "execution_count": 0,
   "metadata": {
    "application/vnd.databricks.v1+cell": {
     "cellMetadata": {
      "byteLimit": 2048000,
      "rowLimit": 10000
     },
     "inputWidgets": {},
     "nuid": "b116b6b7-dfde-40cf-a70a-3151d807c118",
     "showTitle": false,
     "title": ""
    }
   },
   "outputs": [],
   "source": [
    "# Specify the path within the mounted storage where you want to save the file\n",
    "output_path = \"/mnt/IkigaiGuide/ikigai-transformed-data/TIMES_filtered\"\n",
    "\n",
    "# Save the filtered DataFrame to CSV in the mounted Azure Blob Storage\n",
    "TIMES_filtered.write.mode(\"overwrite\").option(\"header\", \"true\").csv(output_path)\n"
   ]
  },
  {
   "cell_type": "code",
   "execution_count": 0,
   "metadata": {
    "application/vnd.databricks.v1+cell": {
     "cellMetadata": {
      "byteLimit": 2048000,
      "rowLimit": 10000
     },
     "inputWidgets": {},
     "nuid": "c8deecaf-c731-4202-b3c9-62bb73059e22",
     "showTitle": false,
     "title": ""
    }
   },
   "outputs": [
    {
     "output_type": "stream",
     "name": "stdout",
     "output_type": "stream",
     "text": [
      "+----------+--------------------+--------------+-------------+--------------------+-----------------+------------------+------------+---------+---------+------------+-------+-----+----+\n|world_rank|         institution|       country|national_rank|quality_of_education|alumni_employment|quality_of_faculty|publications|influence|citations|broad_impact|patents|score|year|\n+----------+--------------------+--------------+-------------+--------------------+-----------------+------------------+------------+---------+---------+------------+-------+-----+----+\n|         1|  Harvard University|           USA|            1|                   7|                9|                 1|           1|        1|        1|        NULL|      5|100.0|2012|\n|         2|Massachusetts Ins...|           USA|            2|                   9|               17|                 3|          12|        4|        4|        NULL|      1|91.67|2012|\n|         3| Stanford University|           USA|            3|                  17|               11|                 5|           4|        2|        2|        NULL|     15| 89.5|2012|\n|         4|University of Cam...|United Kingdom|            1|                  10|               24|                 4|          16|       16|       11|        NULL|     50|86.17|2012|\n|         5|California Instit...|           USA|            4|                   2|               29|                 7|          37|       22|       22|        NULL|     18|85.21|2012|\n|         6|Princeton University|           USA|            5|                   8|               14|                 2|          53|       33|       26|        NULL|    101| 82.5|2012|\n|         7|University of Oxford|United Kingdom|            2|                  13|               28|                 9|          15|       13|       19|        NULL|     26|82.34|2012|\n|         8|     Yale University|           USA|            6|                  14|               31|                12|          14|        6|       15|        NULL|     66|79.14|2012|\n|         9| Columbia University|           USA|            7|                  23|               21|                10|          13|       12|       14|        NULL|      5|78.86|2012|\n|        10|University of Cal...|           USA|            8|                  16|               52|                 6|           6|        5|        3|        NULL|     16|78.55|2012|\n|        11|University of Chi...|           USA|            9|                  15|               26|                 8|          34|       20|       28|        NULL|    101|73.82|2012|\n|        12|  Cornell University|           USA|           10|                  21|               42|                14|          22|       21|       16|        NULL|     10|73.69|2012|\n|        13|University of Pen...|           USA|           11|                  31|               16|                24|           9|       10|        8|        NULL|      9|73.64|2012|\n|        14| University of Tokyo|         Japan|            1|                  32|               19|                31|           8|       19|       23|        NULL|      3|69.49|2012|\n|        15|Johns Hopkins Uni...|           USA|           12|                  34|               77|                20|          11|        9|        9|        NULL|      7|66.94|2012|\n|        16|Swiss Federal Ins...|   Switzerland|            1|                  26|               66|                11|          40|       51|       44|        NULL|     34|66.69|2012|\n|        17|    Kyoto University|         Japan|            2|                  42|               38|                19|          25|       36|       43|        NULL|     23|65.76|2012|\n|        18|Weizmann Institut...|        Israel|            1|                   4|              101|                22|         101|       67|      101|        NULL|     29|65.09|2012|\n|        19|University of Cal...|           USA|           13|                  62|               59|                23|           3|       11|        6|        NULL|     13|64.05|2012|\n|        20|University of Cal...|           USA|           14|                  61|              101|                15|          10|        8|       10|        NULL|     22|63.11|2012|\n+----------+--------------------+--------------+-------------+--------------------+-----------------+------------------+------------+---------+---------+------------+-------+-----+----+\nonly showing top 20 rows\n\n"
     ]
    }
   ],
   "source": [
    "# Adjusted file path to point to the specific file inside the ikigai-raw-data folder\n",
    "file_path = \"/mnt/IkigaiGuide/ikigai-raw-data/cwurdata.csv\"\n",
    "\n",
    "# Load the dataset\n",
    "cwur = spark.read.option(\"header\", \"true\").option(\"inferSchema\", \"true\").csv(file_path)\n",
    "\n",
    "# Display the first few rows of the DataFrame to understand its structure\n",
    "cwur.show()\n"
   ]
  },
  {
   "cell_type": "code",
   "execution_count": 0,
   "metadata": {
    "application/vnd.databricks.v1+cell": {
     "cellMetadata": {
      "byteLimit": 2048000,
      "rowLimit": 10000
     },
     "inputWidgets": {},
     "nuid": "9d6b75bd-9438-40f8-9eb4-95669cd40a86",
     "showTitle": false,
     "title": ""
    }
   },
   "outputs": [
    {
     "output_type": "execute_result",
     "data": {
      "text/plain": [
       "[('world_rank', 'int'),\n",
       " ('institution', 'string'),\n",
       " ('country', 'string'),\n",
       " ('national_rank', 'int'),\n",
       " ('quality_of_education', 'int'),\n",
       " ('alumni_employment', 'int'),\n",
       " ('quality_of_faculty', 'int'),\n",
       " ('publications', 'int'),\n",
       " ('influence', 'int'),\n",
       " ('citations', 'int'),\n",
       " ('broad_impact', 'int'),\n",
       " ('patents', 'int'),\n",
       " ('score', 'double'),\n",
       " ('year', 'int')]"
      ]
     },
     "execution_count": 12,
     "metadata": {},
     "output_type": "execute_result"
    }
   ],
   "source": [
    "cwur.dtypes"
   ]
  },
  {
   "cell_type": "code",
   "execution_count": 0,
   "metadata": {
    "application/vnd.databricks.v1+cell": {
     "cellMetadata": {
      "byteLimit": 2048000,
      "rowLimit": 10000
     },
     "inputWidgets": {},
     "nuid": "36e00811-60ac-4df6-a476-6e23172245d4",
     "showTitle": false,
     "title": ""
    }
   },
   "outputs": [
    {
     "output_type": "stream",
     "name": "stdout",
     "output_type": "stream",
     "text": [
      "+----------+-----------+-------+-------------+--------------------+-----------------+------------------+------------+---------+---------+------------+-------+-----+----+\n|world_rank|institution|country|national_rank|quality_of_education|alumni_employment|quality_of_faculty|publications|influence|citations|broad_impact|patents|score|year|\n+----------+-----------+-------+-------------+--------------------+-----------------+------------------+------------+---------+---------+------------+-------+-----+----+\n|         0|          0|      0|            0|                   0|                0|                 0|           0|        0|        0|         200|      0|    0|   0|\n+----------+-----------+-------+-------------+--------------------+-----------------+------------------+------------+---------+---------+------------+-------+-----+----+\n\n"
     ]
    }
   ],
   "source": [
    "from pyspark.sql.functions import col, sum as _sum\n",
    "\n",
    "# Count missing values for each column\n",
    "missing_value_counts = cwur.select([_sum(col(c).isNull().cast(\"int\")).alias(c) for c in cwur.columns])\n",
    "\n",
    "missing_value_counts.show()\n"
   ]
  },
  {
   "cell_type": "code",
   "execution_count": 0,
   "metadata": {
    "application/vnd.databricks.v1+cell": {
     "cellMetadata": {
      "byteLimit": 2048000,
      "rowLimit": 10000
     },
     "inputWidgets": {},
     "nuid": "afcce366-2229-4343-a552-d0b0212d0410",
     "showTitle": false,
     "title": ""
    }
   },
   "outputs": [
    {
     "output_type": "stream",
     "name": "stdout",
     "output_type": "stream",
     "text": [
      "Total rows: 2200\n"
     ]
    }
   ],
   "source": [
    "total_rows = cwur.count()\n",
    "print(f\"Total rows: {total_rows}\")\n"
   ]
  },
  {
   "cell_type": "code",
   "execution_count": 0,
   "metadata": {
    "application/vnd.databricks.v1+cell": {
     "cellMetadata": {
      "byteLimit": 2048000,
      "rowLimit": 10000
     },
     "inputWidgets": {},
     "nuid": "b37fd3c0-8872-4fcd-b6ec-2b37541a54d4",
     "showTitle": false,
     "title": ""
    }
   },
   "outputs": [
    {
     "output_type": "stream",
     "name": "stdout",
     "output_type": "stream",
     "text": [
      "+-------+-----------------+\n|summary|     broad_impact|\n+-------+-----------------+\n|  count|             2000|\n|   mean|         496.6995|\n| stddev|286.9197547618261|\n|    min|                1|\n|    max|             1000|\n+-------+-----------------+\n\n"
     ]
    }
   ],
   "source": [
    "# Calculate descriptive statistics for 'broad_impact'\n",
    "cwur.describe(\"broad_impact\").show()\n"
   ]
  },
  {
   "cell_type": "code",
   "execution_count": 0,
   "metadata": {
    "application/vnd.databricks.v1+cell": {
     "cellMetadata": {
      "byteLimit": 2048000,
      "rowLimit": 10000
     },
     "inputWidgets": {},
     "nuid": "68129312-0588-40d9-8a3e-f3f4668dec01",
     "showTitle": false,
     "title": ""
    }
   },
   "outputs": [
    {
     "output_type": "stream",
     "name": "stdout",
     "output_type": "stream",
     "text": [
      "Median of broad_impact: 488.0\n"
     ]
    }
   ],
   "source": [
    "# Calculate the median - Spark doesn't have a built-in median function, but you can approximate it using approxQuantile\n",
    "median_broad_impact = cwur.approxQuantile(\"broad_impact\", [0.5], 0.01)\n",
    "print(f\"Median of broad_impact: {median_broad_impact[0]}\")"
   ]
  },
  {
   "cell_type": "code",
   "execution_count": 0,
   "metadata": {
    "application/vnd.databricks.v1+cell": {
     "cellMetadata": {
      "byteLimit": 2048000,
      "rowLimit": 10000
     },
     "inputWidgets": {},
     "nuid": "f4dabc17-ad49-4a32-b988-cee566c536a1",
     "showTitle": false,
     "title": ""
    }
   },
   "outputs": [
    {
     "output_type": "stream",
     "name": "stdout",
     "output_type": "stream",
     "text": [
      "Bin edges:  [1.0, 100.9, 200.8, 300.70000000000005, 400.6, 500.5, 600.4000000000001, 700.3000000000001, 800.2, 900.1, 1000]\nCounts:  [201, 202, 209, 190, 203, 204, 207, 210, 187, 187]\n"
     ]
    }
   ],
   "source": [
    "# Generating histogram data for 'broad_impact'\n",
    "histogram_data = cwur.select(\"broad_impact\").rdd.flatMap(lambda x: x).histogram(10)\n",
    "\n",
    "# The histogram data would contain two lists: bin edges and counts\n",
    "bin_edges = histogram_data[0]\n",
    "counts = histogram_data[1]\n",
    "\n",
    "# You can print these out to plot them externally\n",
    "print(\"Bin edges: \", bin_edges)\n",
    "print(\"Counts: \", counts)\n"
   ]
  },
  {
   "cell_type": "code",
   "execution_count": 0,
   "metadata": {
    "application/vnd.databricks.v1+cell": {
     "cellMetadata": {
      "byteLimit": 2048000,
      "rowLimit": 10000
     },
     "inputWidgets": {},
     "nuid": "1b01df7f-c1c8-41d8-86be-dc814392a6e9",
     "showTitle": false,
     "title": ""
    }
   },
   "outputs": [
    {
     "output_type": "stream",
     "name": "stdout",
     "output_type": "stream",
     "text": [
      "Lower bound for outliers: -486.0\nUpper bound for outliers: 1474.0\n"
     ]
    }
   ],
   "source": [
    "# Calculating the lower and upper quartiles\n",
    "Q1, Q3 = cwur.approxQuantile(\"broad_impact\", [0.25, 0.75], 0.01)\n",
    "IQR = Q3 - Q1\n",
    "\n",
    "lower_bound = Q1 - 1.5 * IQR\n",
    "upper_bound = Q3 + 1.5 * IQR\n",
    "\n",
    "print(f\"Lower bound for outliers: {lower_bound}\")\n",
    "print(f\"Upper bound for outliers: {upper_bound}\")\n"
   ]
  },
  {
   "cell_type": "code",
   "execution_count": 0,
   "metadata": {
    "application/vnd.databricks.v1+cell": {
     "cellMetadata": {
      "byteLimit": 2048000,
      "rowLimit": 10000
     },
     "inputWidgets": {},
     "nuid": "1278d811-4b7c-4588-85d8-d8414746b550",
     "showTitle": false,
     "title": ""
    }
   },
   "outputs": [
    {
     "output_type": "stream",
     "name": "stdout",
     "output_type": "stream",
     "text": [
      "Number of unique values in 'broad_impact': 344\n"
     ]
    }
   ],
   "source": [
    "unique_broad_impact_count = cwur.select(\"broad_impact\").distinct().count()\n",
    "print(f\"Number of unique values in 'broad_impact': {unique_broad_impact_count}\")\n"
   ]
  },
  {
   "cell_type": "code",
   "execution_count": 0,
   "metadata": {
    "application/vnd.databricks.v1+cell": {
     "cellMetadata": {
      "byteLimit": 2048000,
      "rowLimit": 10000
     },
     "inputWidgets": {},
     "nuid": "450f3811-18bd-4446-9eee-8ed21b5be423",
     "showTitle": false,
     "title": ""
    }
   },
   "outputs": [
    {
     "output_type": "stream",
     "name": "stdout",
     "output_type": "stream",
     "text": [
      "+------------+\n|broad_impact|\n+------------+\n|496         |\n|471         |\n|897         |\n|540         |\n|31          |\n|137         |\n|251         |\n|85          |\n|65          |\n|970         |\n|53          |\n|255         |\n|472         |\n|322         |\n|362         |\n|375         |\n|155         |\n|34          |\n|211         |\n|642         |\n+------------+\nonly showing top 20 rows\n\n"
     ]
    }
   ],
   "source": [
    "# Displaying unique values (or a sample if there are too many)\n",
    "cwur.select(\"broad_impact\").distinct().show(n=20, truncate=False)\n"
   ]
  },
  {
   "cell_type": "code",
   "execution_count": 0,
   "metadata": {
    "application/vnd.databricks.v1+cell": {
     "cellMetadata": {
      "byteLimit": 2048000,
      "rowLimit": 10000
     },
     "inputWidgets": {},
     "nuid": "e50ff346-c521-410c-a9f3-2afce42cdaa7",
     "showTitle": false,
     "title": ""
    }
   },
   "outputs": [],
   "source": [
    "from pyspark.ml.feature import VectorAssembler\n",
    "from pyspark.ml.regression import LinearRegression\n",
    "from pyspark.ml import Pipeline\n",
    "\n",
    "# Assuming the 'cwur' DataFrame is already loaded and 'broad_impact' is the target column\n",
    "# Select relevant feature columns for the prediction model\n",
    "feature_columns = ['quality_of_education', 'alumni_employment', 'quality_of_faculty', 'publications', 'influence', 'citations', 'patents', 'score', 'year']  # Example feature columns\n",
    "\n",
    "# Prepare the data: filter out rows with and without 'broad_impact' values\n",
    "data_with_broad_impact = cwur.filter(cwur.broad_impact.isNotNull())\n",
    "data_without_broad_impact = cwur.filter(cwur.broad_impact.isNull())\n",
    "\n",
    "# Create a features vector\n",
    "assembler = VectorAssembler(inputCols=feature_columns, outputCol=\"features\")\n",
    "\n",
    "# Add the assembler to the stages of your pipeline\n",
    "pipeline_stages = [assembler]\n"
   ]
  },
  {
   "cell_type": "code",
   "execution_count": 0,
   "metadata": {
    "application/vnd.databricks.v1+cell": {
     "cellMetadata": {
      "byteLimit": 2048000,
      "rowLimit": 10000
     },
     "inputWidgets": {},
     "nuid": "9bc0b69c-c66f-4d84-9279-8902130038e9",
     "showTitle": false,
     "title": ""
    }
   },
   "outputs": [],
   "source": [
    "# Add the linear regression model to the pipeline\n",
    "lr = LinearRegression(featuresCol=\"features\", labelCol=\"broad_impact\")\n",
    "pipeline_stages.append(lr)\n",
    "\n",
    "# Create the pipeline\n",
    "pipeline = Pipeline(stages=pipeline_stages)\n",
    "\n",
    "# Train the model using data with 'broad_impact' values\n",
    "model = pipeline.fit(data_with_broad_impact)\n"
   ]
  },
  {
   "cell_type": "code",
   "execution_count": 0,
   "metadata": {
    "application/vnd.databricks.v1+cell": {
     "cellMetadata": {
      "byteLimit": 2048000,
      "rowLimit": 10000
     },
     "inputWidgets": {},
     "nuid": "7f4e7bd1-bc34-470c-a52f-613d319c9f5b",
     "showTitle": false,
     "title": ""
    }
   },
   "outputs": [],
   "source": [
    "# Use the model to predict 'broad_impact' for data where it is missing\n",
    "predictions = model.transform(data_without_broad_impact)\n"
   ]
  },
  {
   "cell_type": "code",
   "execution_count": 0,
   "metadata": {
    "application/vnd.databricks.v1+cell": {
     "cellMetadata": {
      "byteLimit": 2048000,
      "rowLimit": 10000
     },
     "inputWidgets": {},
     "nuid": "e11c5eca-2b51-49fc-b84e-e04c23b5d502",
     "showTitle": false,
     "title": ""
    }
   },
   "outputs": [
    {
     "output_type": "stream",
     "name": "stdout",
     "output_type": "stream",
     "text": [
      "+----------+--------------------+--------------+-------------+--------------------+-----------------+------------------+------------+---------+---------+------------+-------+-----+----+\n|world_rank|         institution|       country|national_rank|quality_of_education|alumni_employment|quality_of_faculty|publications|influence|citations|broad_impact|patents|score|year|\n+----------+--------------------+--------------+-------------+--------------------+-----------------+------------------+------------+---------+---------+------------+-------+-----+----+\n|         1|  Harvard University|           USA|            1|                   1|                1|                 1|           1|        1|        1|         1.0|      2|100.0|2014|\n|         2| Stanford University|           USA|            2|                  11|                2|                 4|           5|        3|        3|         4.0|      6|99.09|2014|\n|         3|Massachusetts Ins...|           USA|            3|                   3|               11|                 2|          15|        2|        2|         2.0|      1|98.69|2014|\n|         4|University of Cam...|United Kingdom|            1|                   2|               10|                 5|          10|        9|       12|        13.0|     48|97.64|2014|\n|         5|University of Oxford|United Kingdom|            2|                   7|               12|                10|          11|       12|       11|        12.0|     16|97.51|2014|\n|         6| Columbia University|           USA|            4|                  13|                8|                 9|          14|       13|        9|        13.0|      4|97.41|2014|\n|         7|University of Cal...|           USA|            5|                   4|               22|                 6|           7|        4|        3|         7.0|     28|92.84|2014|\n|         8|University of Chi...|           USA|            6|                  10|               14|                 8|          17|       19|       10|        18.0|    149|92.03|2014|\n|         9|Princeton University|           USA|            7|                   5|               16|                 3|          70|       25|       19|        41.0|    204|88.56|2014|\n|        10|     Yale University|           USA|            8|                   9|               25|                11|          18|        7|       32|        19.0|     45|88.11|2014|\n|        11|  Cornell University|           USA|            9|                  12|               18|                19|          23|       15|       23|        23.0|     12| 85.8|2014|\n|        12|California Instit...|           USA|           10|                   6|              303|                 7|          48|        6|       16|        24.0|      9| 85.5|2014|\n|        13| University of Tokyo|         Japan|            1|                  17|                3|                33|          12|       16|       28|        26.0|     14|80.64|2014|\n|        14|University of Pen...|           USA|           11|                  21|                4|                26|           8|       17|       13|        10.0|     28| 79.3|2014|\n|        15|University of Cal...|           USA|           12|                  27|               27|                12|           6|       14|        7|         6.0|     10|78.35|2014|\n|        16|    Kyoto University|         Japan|            2|                  30|               23|                15|          27|       41|       61|        51.0|     18|73.21|2014|\n|        17| New York University|           USA|           13|                  33|               21|                17|          49|       29|       32|        31.0|     48|72.29|2014|\n|        18|Swiss Federal Ins...|   Switzerland|            1|                  16|              105|                13|          42|       28|       45|        86.0|     84|72.18|2014|\n|        19|Johns Hopkins Uni...|           USA|           14|                  24|               75|                18|           4|       10|        6|         3.0|      3|71.17|2014|\n|        20|University of Cal...|           USA|           15|                  32|              478|                20|          16|        5|       19|        16.0|     13|68.36|2014|\n+----------+--------------------+--------------+-------------+--------------------+-----------------+------------------+------------+---------+---------+------------+-------+-----+----+\nonly showing top 20 rows\n\n"
     ]
    }
   ],
   "source": [
    "from pyspark.sql.functions import col\n",
    "\n",
    "# Select the original columns, replace 'broad_impact' with the predicted values\n",
    "predictions = predictions.select(col(\"prediction\").alias(\"broad_impact\"), *[c for c in cwur.columns if c != \"broad_impact\"])\n",
    "\n",
    "# Union the datasets back together\n",
    "updated_cwur = data_with_broad_impact.unionByName(predictions)\n",
    "\n",
    "# Show some of the updated dataset to verify\n",
    "updated_cwur.show()\n"
   ]
  },
  {
   "cell_type": "code",
   "execution_count": 0,
   "metadata": {
    "application/vnd.databricks.v1+cell": {
     "cellMetadata": {
      "byteLimit": 2048000,
      "rowLimit": 10000
     },
     "inputWidgets": {},
     "nuid": "e426c237-4f76-4365-bbfa-4105973b1d0d",
     "showTitle": false,
     "title": ""
    }
   },
   "outputs": [],
   "source": [
    "# Define the path in DBFS where you want to save the updated dataset\n",
    "dbfs_path = \"/mnt/IkigaiGuide/ikigai-transformed-data/updated_cwur\"\n",
    "\n",
    "# Save the updated DataFrame as a CSV file\n",
    "updated_cwur.write.mode(\"overwrite\").option(\"header\", \"true\").csv(dbfs_path)\n"
   ]
  },
  {
   "cell_type": "code",
   "execution_count": 0,
   "metadata": {
    "application/vnd.databricks.v1+cell": {
     "cellMetadata": {
      "byteLimit": 2048000,
      "rowLimit": 10000
     },
     "inputWidgets": {},
     "nuid": "7f88aba2-9d68-4b6e-b0e0-f66dfac9a258",
     "showTitle": false,
     "title": ""
    }
   },
   "outputs": [
    {
     "output_type": "stream",
     "name": "stdout",
     "output_type": "stream",
     "text": [
      "+------------------+-----------------+-----------------------+----+----+----+----+----+----+\n|           country|   institute_type|direct_expenditure_type|1995|2000|2005|2009|2010|2011|\n+------------------+-----------------+-----------------------+----+----+----+----+----+----+\n|      OECD Average|All Institutions |                 Public| 4.9| 4.9| 5.0| 5.4| 5.4| 5.3|\n|         Australia|All Institutions |                 Public| 4.5| 4.6| 4.3| 4.5| 4.6| 4.3|\n|           Austria|All Institutions |                 Public| 5.3| 5.4| 5.2| 5.7| 5.6| 5.5|\n|           Belgium|All Institutions |                 Public| 5.0| 5.1| 5.8| 6.4| 6.4| 6.4|\n|            Canada|All Institutions |                 Public| 5.8| 5.2| 4.8| 5.0| 5.2|NULL|\n|             Chile|All Institutions |                 Public|NULL| 4.2| 3.3| 4.1| 4.3| 3.9|\n|    Czech Republic|All Institutions |                 Public| 4.8| 4.2| 4.1| 4.2| 4.1| 4.4|\n|           Denmark|All Institutions |                 Public| 6.5| 6.4| 6.8| 7.5| 7.6| 7.5|\n|           Estonia|All Institutions |                 Public|NULL|NULL| 4.7| 5.9| 5.6| 5.2|\n|           Finland|All Institutions |                 Public| 6.6| 5.5| 5.9| 6.3| 6.4| 6.3|\n|            France|All Institutions |                 Public| 5.8| 5.7| 5.6| 5.8| 5.8| 5.6|\n|           Germany|All Institutions |                 Public| 4.5| 4.3| 4.2| 4.5|NULL| 4.4|\n|            Greece|All Institutions |                 Public| 3.7| 3.7| 4.0|NULL|NULL|NULL|\n|           Hungary|All Institutions |                 Public| 4.9| 4.4| 5.1| 4.8| 4.6| 4.4|\n|           Iceland|All Institutions |                 Public| 4.5| 5.7| 7.2| 7.3| 7.0| 6.9|\n|           Ireland|All Institutions |                 Public| 4.7| 4.1| 4.3| 6.0| 6.0| 5.7|\n|            Israel|All Institutions |                 Public|NULL| 6.6| 6.2| 5.8| 5.9| 5.6|\n|             Italy|All Institutions |                 Public| 4.5| 4.5| 4.3| 4.5| 4.3| 4.2|\n|             Japan|All Institutions |                 Public| 3.6| 3.5| 3.4| 3.6| 3.6| 3.6|\n|Korea, Republic of|All Institutions |                 Public| 3.6| 4.3| 4.3| 4.9| 4.8| 4.9|\n+------------------+-----------------+-----------------------+----+----+----+----+----+----+\nonly showing top 20 rows\n\n"
     ]
    }
   ],
   "source": [
    "# Adjusted file path to point to the specific file inside the ikigai-raw-data folder\n",
    "file_path = \"/mnt/IkigaiGuide/ikigai-raw-data/education_expenditure.csv\"\n",
    "\n",
    "# Load the dataset\n",
    "expenditure = spark.read.option(\"header\", \"true\").option(\"inferSchema\", \"true\").csv(file_path)\n",
    "\n",
    "# Display the first few rows of the DataFrame to understand its structure\n",
    "expenditure.show()"
   ]
  },
  {
   "cell_type": "code",
   "execution_count": 0,
   "metadata": {
    "application/vnd.databricks.v1+cell": {
     "cellMetadata": {
      "byteLimit": 2048000,
      "rowLimit": 10000
     },
     "inputWidgets": {},
     "nuid": "99690e3f-e093-407c-877f-ea836242ae9e",
     "showTitle": false,
     "title": ""
    }
   },
   "outputs": [
    {
     "output_type": "execute_result",
     "data": {
      "text/plain": [
       "[('country', 'string'),\n",
       " ('institute_type', 'string'),\n",
       " ('direct_expenditure_type', 'string'),\n",
       " ('1995', 'double'),\n",
       " ('2000', 'double'),\n",
       " ('2005', 'double'),\n",
       " ('2009', 'double'),\n",
       " ('2010', 'double'),\n",
       " ('2011', 'double')]"
      ]
     },
     "execution_count": 140,
     "metadata": {},
     "output_type": "execute_result"
    }
   ],
   "source": [
    "expenditure.dtypes"
   ]
  },
  {
   "cell_type": "code",
   "execution_count": 0,
   "metadata": {
    "application/vnd.databricks.v1+cell": {
     "cellMetadata": {
      "byteLimit": 2048000,
      "rowLimit": 10000
     },
     "inputWidgets": {},
     "nuid": "d18c5dea-9131-4af5-84bb-65f1f34b4d3e",
     "showTitle": false,
     "title": ""
    }
   },
   "outputs": [
    {
     "output_type": "stream",
     "name": "stdout",
     "output_type": "stream",
     "text": [
      "+-------+--------------+-----------------------+----+----+----+----+----+----+\n|country|institute_type|direct_expenditure_type|1995|2000|2005|2009|2010|2011|\n+-------+--------------+-----------------------+----+----+----+----+----+----+\n|      0|             0|                      0| 239| 234| 227| 230| 232|  51|\n+-------+--------------+-----------------------+----+----+----+----+----+----+\n\n"
     ]
    }
   ],
   "source": [
    "from pyspark.sql.functions import col, sum as sum_col\n",
    "\n",
    "# Count missing values for each column\n",
    "missing_values = expenditure.select([sum_col(col(c).isNull().cast(\"int\")).alias(c) for c in expenditure.columns])\n",
    "\n",
    "missing_values.show()\n"
   ]
  },
  {
   "cell_type": "code",
   "execution_count": 0,
   "metadata": {
    "application/vnd.databricks.v1+cell": {
     "cellMetadata": {
      "byteLimit": 2048000,
      "rowLimit": 10000
     },
     "inputWidgets": {},
     "nuid": "df7c79be-35ce-4d48-8ee7-99806dde5757",
     "showTitle": false,
     "title": ""
    }
   },
   "outputs": [
    {
     "output_type": "stream",
     "name": "stdout",
     "output_type": "stream",
     "text": [
      "Total number of rows: 333\n"
     ]
    }
   ],
   "source": [
    "total_rows = expenditure.count()\n",
    "print(f\"Total number of rows: {total_rows}\")\n"
   ]
  },
  {
   "cell_type": "code",
   "execution_count": 0,
   "metadata": {
    "application/vnd.databricks.v1+cell": {
     "cellMetadata": {
      "byteLimit": 2048000,
      "rowLimit": 10000
     },
     "inputWidgets": {},
     "nuid": "62276b13-5880-4a56-b252-aea62186197d",
     "showTitle": false,
     "title": ""
    }
   },
   "outputs": [],
   "source": [
    "from pyspark.sql.functions import col, count, when, isnan\n",
    "\n",
    "# Rows with Exactly One Missing Value\n",
    "rows_with_one_missing = expenditure.where(sum(when(col(c).isNull() | isnan(col(c)), 1).otherwise(0) for c in expenditure.columns) == 1)\n"
   ]
  },
  {
   "cell_type": "code",
   "execution_count": 0,
   "metadata": {
    "application/vnd.databricks.v1+cell": {
     "cellMetadata": {
      "byteLimit": 2048000,
      "rowLimit": 10000
     },
     "inputWidgets": {},
     "nuid": "6e9d7a38-7fd0-4649-9f62-1477966c2704",
     "showTitle": false,
     "title": ""
    }
   },
   "outputs": [
    {
     "output_type": "stream",
     "name": "stdout",
     "output_type": "stream",
     "text": [
      "+---------------+--------------------+-----------------------+----+----+----+----+----+----+\n|        country|      institute_type|direct_expenditure_type|1995|2000|2005|2009|2010|2011|\n+---------------+--------------------+-----------------------+----+----+----+----+----+----+\n|         Canada|   All Institutions |                 Public| 5.8| 5.2| 4.8| 5.0| 5.2|NULL|\n|          Chile|   All Institutions |                 Public|NULL| 4.2| 3.3| 4.1| 4.3| 3.9|\n|        Germany|   All Institutions |                 Public| 4.5| 4.3| 4.2| 4.5|NULL| 4.4|\n|         Israel|   All Institutions |                 Public|NULL| 6.6| 6.2| 5.8| 5.9| 5.6|\n|         Canada|Elementary and Se...|                 Public| 4.0| 3.3| 3.3| 3.4| 3.6|NULL|\n|          Chile|Elementary and Se...|                 Public|NULL| 3.2| 2.7| 3.3| 2.9| 2.7|\n|        Germany|Elementary and Se...|                 Public| 2.9| 2.9| 2.8| 2.9|NULL| 2.8|\n|         Israel|Elementary and Se...|                 Public|NULL| 4.5| 4.2| 3.8| 4.0| 3.8|\n|     Luxembourg|Elementary and Se...|                 Public| 4.2|NULL| 3.7| 3.2| 3.4| 3.3|\n|Slovak Republic|Elementary and Se...|                 Public|NULL| 2.7| 2.5| 2.7| 2.8| 2.5|\n|         Canada|Higher Education ...|                 Public| 1.5| 1.6| 1.5| 1.5| 1.6|NULL|\n|          Chile|Higher Education ...|                 Public|NULL| 0.6| 0.3| 0.3| 0.8| 0.7|\n|        Germany|Higher Education ...|                 Public| 1.0| 1.0| 0.9| 1.1|NULL| 1.1|\n|         Israel|Higher Education ...|                 Public|NULL| 1.1| 1.0| 1.0| 1.0| 0.9|\n|Slovak Republic|Higher Education ...|                 Public|NULL| 0.7| 0.7| 0.7| 0.7| 0.8|\n+---------------+--------------------+-----------------------+----+----+----+----+----+----+\n\n"
     ]
    }
   ],
   "source": [
    "rows_with_one_missing.show()"
   ]
  },
  {
   "cell_type": "code",
   "execution_count": 0,
   "metadata": {
    "application/vnd.databricks.v1+cell": {
     "cellMetadata": {
      "byteLimit": 2048000,
      "rowLimit": 10000
     },
     "inputWidgets": {},
     "nuid": "92956bb6-5e22-49c5-bd4a-a022b0e82600",
     "showTitle": false,
     "title": ""
    }
   },
   "outputs": [
    {
     "output_type": "stream",
     "name": "stdout",
     "output_type": "stream",
     "text": [
      "+------------------+-----------------+-----------------------+----+----+----+----+----+----+\n|           country|   institute_type|direct_expenditure_type|1995|2000|2005|2009|2010|2011|\n+------------------+-----------------+-----------------------+----+----+----+----+----+----+\n|      OECD Average|All Institutions |                 Public| 4.9| 4.9| 5.0| 5.4| 5.4| 5.3|\n|         Australia|All Institutions |                 Public| 4.5| 4.6| 4.3| 4.5| 4.6| 4.3|\n|           Austria|All Institutions |                 Public| 5.3| 5.4| 5.2| 5.7| 5.6| 5.5|\n|           Belgium|All Institutions |                 Public| 5.0| 5.1| 5.8| 6.4| 6.4| 6.4|\n|    Czech Republic|All Institutions |                 Public| 4.8| 4.2| 4.1| 4.2| 4.1| 4.4|\n|           Denmark|All Institutions |                 Public| 6.5| 6.4| 6.8| 7.5| 7.6| 7.5|\n|           Finland|All Institutions |                 Public| 6.6| 5.5| 5.9| 6.3| 6.4| 6.3|\n|            France|All Institutions |                 Public| 5.8| 5.7| 5.6| 5.8| 5.8| 5.6|\n|           Hungary|All Institutions |                 Public| 4.9| 4.4| 5.1| 4.8| 4.6| 4.4|\n|           Iceland|All Institutions |                 Public| 4.5| 5.7| 7.2| 7.3| 7.0| 6.9|\n|           Ireland|All Institutions |                 Public| 4.7| 4.1| 4.3| 6.0| 6.0| 5.7|\n|             Italy|All Institutions |                 Public| 4.5| 4.5| 4.3| 4.5| 4.3| 4.2|\n|             Japan|All Institutions |                 Public| 3.6| 3.5| 3.4| 3.6| 3.6| 3.6|\n|Korea, Republic of|All Institutions |                 Public| 3.6| 4.3| 4.3| 4.9| 4.8| 4.9|\n|            Mexico|All Institutions |                 Public| 4.6| 4.7| 5.3| 5.0| 5.1| 5.0|\n|       Netherlands|All Institutions |                 Public| 4.6| 4.3| 4.6| 5.3| 5.4| 5.3|\n|       New Zealand|All Institutions |                 Public| 5.3| 5.8| 5.2| 6.1| 6.0| 6.3|\n|            Norway|All Institutions |                 Public| 6.8| 5.8| 5.7| 6.1| 7.5| 7.3|\n|            Poland|All Institutions |                 Public| 5.2| 5.2| 5.4| 5.0| 5.0| 4.8|\n|          Portugal|All Institutions |                 Public| 5.4| 5.6| 5.3| 5.5| 5.4| 5.1|\n+------------------+-----------------+-----------------------+----+----+----+----+----+----+\nonly showing top 20 rows\n\n"
     ]
    }
   ],
   "source": [
    "\n",
    "# Rows with All Values Filled (No Missing Values)\n",
    "rows_with_all_filled = expenditure.dropna(how='any')  # This removes rows with any null values\n",
    "rows_with_all_filled.show()"
   ]
  },
  {
   "cell_type": "code",
   "execution_count": 0,
   "metadata": {
    "application/vnd.databricks.v1+cell": {
     "cellMetadata": {
      "byteLimit": 2048000,
      "rowLimit": 10000
     },
     "inputWidgets": {},
     "nuid": "b777fdb9-6af3-48ec-b293-0909fa40cf56",
     "showTitle": false,
     "title": ""
    }
   },
   "outputs": [
    {
     "output_type": "stream",
     "name": "stdout",
     "output_type": "stream",
     "text": [
      "+---------------+--------------------+-----------------------+----+----+----+----+----+----+\n|        country|      institute_type|direct_expenditure_type|1995|2000|2005|2009|2010|2011|\n+---------------+--------------------+-----------------------+----+----+----+----+----+----+\n|          Chile|   All Institutions |                 Public|NULL| 4.2| 3.3| 4.1| 4.3| 3.9|\n|         Israel|   All Institutions |                 Public|NULL| 6.6| 6.2| 5.8| 5.9| 5.6|\n|          Chile|Elementary and Se...|                 Public|NULL| 3.2| 2.7| 3.3| 2.9| 2.7|\n|         Israel|Elementary and Se...|                 Public|NULL| 4.5| 4.2| 3.8| 4.0| 3.8|\n|Slovak Republic|Elementary and Se...|                 Public|NULL| 2.7| 2.5| 2.7| 2.8| 2.5|\n|          Chile|Higher Education ...|                 Public|NULL| 0.6| 0.3| 0.3| 0.8| 0.7|\n|         Israel|Higher Education ...|                 Public|NULL| 1.1| 1.0| 1.0| 1.0| 0.9|\n|Slovak Republic|Higher Education ...|                 Public|NULL| 0.7| 0.7| 0.7| 0.7| 0.8|\n+---------------+--------------------+-----------------------+----+----+----+----+----+----+\n\n+----------+--------------------+-----------------------+----+----+----+----+----+----+\n|   country|      institute_type|direct_expenditure_type|1995|2000|2005|2009|2010|2011|\n+----------+--------------------+-----------------------+----+----+----+----+----+----+\n|Luxembourg|Elementary and Se...|                 Public| 4.2|NULL| 3.7| 3.2| 3.4| 3.3|\n+----------+--------------------+-----------------------+----+----+----+----+----+----+\n\n+-------+--------------+-----------------------+----+----+----+----+----+----+\n|country|institute_type|direct_expenditure_type|1995|2000|2005|2009|2010|2011|\n+-------+--------------+-----------------------+----+----+----+----+----+----+\n+-------+--------------+-----------------------+----+----+----+----+----+----+\n\n+-------+--------------+-----------------------+----+----+----+----+----+----+\n|country|institute_type|direct_expenditure_type|1995|2000|2005|2009|2010|2011|\n+-------+--------------+-----------------------+----+----+----+----+----+----+\n+-------+--------------+-----------------------+----+----+----+----+----+----+\n\n+-------+--------------------+-----------------------+----+----+----+----+----+----+\n|country|      institute_type|direct_expenditure_type|1995|2000|2005|2009|2010|2011|\n+-------+--------------------+-----------------------+----+----+----+----+----+----+\n|Germany|   All Institutions |                 Public| 4.5| 4.3| 4.2| 4.5|NULL| 4.4|\n|Germany|Elementary and Se...|                 Public| 2.9| 2.9| 2.8| 2.9|NULL| 2.8|\n|Germany|Higher Education ...|                 Public| 1.0| 1.0| 0.9| 1.1|NULL| 1.1|\n+-------+--------------------+-----------------------+----+----+----+----+----+----+\n\n+-------+--------------------+-----------------------+----+----+----+----+----+----+\n|country|      institute_type|direct_expenditure_type|1995|2000|2005|2009|2010|2011|\n+-------+--------------------+-----------------------+----+----+----+----+----+----+\n| Canada|   All Institutions |                 Public| 5.8| 5.2| 4.8| 5.0| 5.2|NULL|\n| Canada|Elementary and Se...|                 Public| 4.0| 3.3| 3.3| 3.4| 3.6|NULL|\n| Canada|Higher Education ...|                 Public| 1.5| 1.6| 1.5| 1.5| 1.6|NULL|\n+-------+--------------------+-----------------------+----+----+----+----+----+----+\n\n"
     ]
    }
   ],
   "source": [
    "from pyspark.sql.functions import col\n",
    "\n",
    "# Assuming 'rows_with_one_missing' is your DataFrame\n",
    "# For year 1995\n",
    "missing_1995 = rows_with_one_missing.filter(col(\"1995\").isNull())\n",
    "missing_1995.show()\n",
    "# For year 2000\n",
    "missing_2000 = rows_with_one_missing.filter(col(\"2000\").isNull())\n",
    "missing_2000.show()\n",
    "# For year 2005\n",
    "missing_2005 = rows_with_one_missing.filter(col(\"2005\").isNull())\n",
    "missing_2005.show()\n",
    "# For year 2009\n",
    "missing_2009 = rows_with_one_missing.filter(col(\"2009\").isNull())\n",
    "missing_2009.show()\n",
    "# For year 2010\n",
    "missing_2010 = rows_with_one_missing.filter(col(\"2010\").isNull())\n",
    "missing_2010.show()\n",
    "# For year 2011\n",
    "missing_2011 = rows_with_one_missing.filter(col(\"2011\").isNull())\n",
    "missing_2011.show()"
   ]
  },
  {
   "cell_type": "code",
   "execution_count": 0,
   "metadata": {
    "application/vnd.databricks.v1+cell": {
     "cellMetadata": {
      "byteLimit": 2048000,
      "rowLimit": 10000
     },
     "inputWidgets": {},
     "nuid": "12e74fa5-5180-49d5-a647-a97f20024a1d",
     "showTitle": false,
     "title": ""
    }
   },
   "outputs": [],
   "source": [
    "from pyspark.ml.feature import VectorAssembler\n",
    "from pyspark.ml.regression import RandomForestRegressor\n",
    "from pyspark.ml import Pipeline\n",
    "from pyspark.ml.evaluation import RegressionEvaluator\n",
    "\n",
    "# Assuming `rows_with_all_filled` is your Spark DataFrame\n",
    "feature_columns = ['2000', '2005', '2009', '2010', '2011']  # List of feature columns\n",
    "target_column = '1995'  # Target column\n",
    "\n",
    "# Assemble features\n",
    "assembler = VectorAssembler(inputCols=feature_columns, outputCol=\"features\")\n"
   ]
  },
  {
   "cell_type": "code",
   "execution_count": 0,
   "metadata": {
    "application/vnd.databricks.v1+cell": {
     "cellMetadata": {
      "byteLimit": 2048000,
      "rowLimit": 10000
     },
     "inputWidgets": {},
     "nuid": "65019149-0500-4563-adbb-d28ee5b40b04",
     "showTitle": false,
     "title": ""
    }
   },
   "outputs": [],
   "source": [
    "# Split the data\n",
    "train_data, test_data = rows_with_all_filled.randomSplit([0.8, 0.2], seed=42)\n"
   ]
  },
  {
   "cell_type": "code",
   "execution_count": 0,
   "metadata": {
    "application/vnd.databricks.v1+cell": {
     "cellMetadata": {
      "byteLimit": 2048000,
      "rowLimit": 10000
     },
     "inputWidgets": {},
     "nuid": "c4a0e67b-3805-4eba-99af-e3c226dc748b",
     "showTitle": false,
     "title": ""
    }
   },
   "outputs": [],
   "source": [
    "# Initialize the RandomForest model\n",
    "rf = RandomForestRegressor(featuresCol=\"features\", labelCol=target_column)\n"
   ]
  },
  {
   "cell_type": "code",
   "execution_count": 0,
   "metadata": {
    "application/vnd.databricks.v1+cell": {
     "cellMetadata": {
      "byteLimit": 2048000,
      "rowLimit": 10000
     },
     "inputWidgets": {},
     "nuid": "cfed3230-beba-4e74-81d4-dc94bbae4e34",
     "showTitle": false,
     "title": ""
    }
   },
   "outputs": [],
   "source": [
    "# Define the pipeline\n",
    "pipeline = Pipeline(stages=[assembler, rf])\n",
    "\n",
    "# Train the model\n",
    "model = pipeline.fit(train_data)\n"
   ]
  },
  {
   "cell_type": "code",
   "execution_count": 0,
   "metadata": {
    "application/vnd.databricks.v1+cell": {
     "cellMetadata": {
      "byteLimit": 2048000,
      "rowLimit": 10000
     },
     "inputWidgets": {},
     "nuid": "f719616a-d29a-4efc-8569-4ab784ffa47e",
     "showTitle": false,
     "title": ""
    }
   },
   "outputs": [
    {
     "output_type": "stream",
     "name": "stdout",
     "output_type": "stream",
     "text": [
      "+------------------+----+--------------------+\n|        prediction|1995|            features|\n+------------------+----+--------------------+\n|0.6982525252525253| 0.7|[0.5,0.8,1.2,1.0,...|\n| 5.480668290043289| 5.3|[5.4,5.2,5.7,5.6,...|\n|0.9870113954672778| 0.9|[1.2,1.2,1.4,1.5,...|\n| 3.109532051282051| 3.4|[2.8,2.7,2.6,2.6,...|\n| 3.872448646125116| 4.2|[3.5,3.8,4.1,4.1,...|\n+------------------+----+--------------------+\nonly showing top 5 rows\n\nRoot Mean Squared Error (RMSE) on test data = 0.277791\n"
     ]
    }
   ],
   "source": [
    "# Make predictions\n",
    "predictions = model.transform(test_data)\n",
    "\n",
    "# Select example rows to display\n",
    "predictions.select(\"prediction\", target_column, \"features\").show(5)\n",
    "\n",
    "# Evaluate the model\n",
    "evaluator = RegressionEvaluator(labelCol=target_column, predictionCol=\"prediction\", metricName=\"rmse\")\n",
    "rmse = evaluator.evaluate(predictions)\n",
    "print(\"Root Mean Squared Error (RMSE) on test data = %g\" % rmse)\n"
   ]
  },
  {
   "cell_type": "code",
   "execution_count": 0,
   "metadata": {
    "application/vnd.databricks.v1+cell": {
     "cellMetadata": {
      "byteLimit": 2048000,
      "rowLimit": 10000
     },
     "inputWidgets": {},
     "nuid": "15c1086e-b16a-47fe-95b7-eede184bc51d",
     "showTitle": false,
     "title": ""
    }
   },
   "outputs": [
    {
     "output_type": "stream",
     "name": "stdout",
     "output_type": "stream",
     "text": [
      "+------------------+--------------------+\n|        prediction|            features|\n+------------------+--------------------+\n| 4.199194677871148|[4.2,3.3,4.1,4.3,...|\n| 6.079642857142856|[6.6,6.2,5.8,5.9,...|\n|3.1600876068376063|[3.2,2.7,3.3,2.9,...|\n| 4.460674836601307|[4.5,4.2,3.8,4.0,...|\n|2.9991987179487176|[2.7,2.5,2.7,2.8,...|\n|0.6506666666666668|[0.6,0.3,0.3,0.8,...|\n| 0.888578855784738|[1.1,1.0,1.0,1.0,...|\n|0.8116666666666668|[0.7,0.7,0.7,0.7,...|\n+------------------+--------------------+\n\n"
     ]
    }
   ],
   "source": [
    "# Note: Ensure `missing_1995` has the same feature structure as your training data\n",
    "# This might involve selecting the same feature columns and assembling them\n",
    "\n",
    "# Predict missing values for 1995\n",
    "missing_predictions_1995 = model.transform(missing_1995)\n",
    "\n",
    "# Show predicted values\n",
    "missing_predictions_1995.select(\"prediction\", \"features\").show()\n"
   ]
  },
  {
   "cell_type": "code",
   "execution_count": 0,
   "metadata": {
    "application/vnd.databricks.v1+cell": {
     "cellMetadata": {
      "byteLimit": 2048000,
      "rowLimit": 10000
     },
     "inputWidgets": {},
     "nuid": "a76dfae6-66fb-4f35-ad2f-144824806604",
     "showTitle": false,
     "title": ""
    }
   },
   "outputs": [
    {
     "output_type": "stream",
     "name": "stdout",
     "output_type": "stream",
     "text": [
      "+---------------+--------------------+-----------------------+----+----+----+----+----+----+--------------------+------------------+\n|        country|      institute_type|direct_expenditure_type|1995|2000|2005|2009|2010|2011|            features|        prediction|\n+---------------+--------------------+-----------------------+----+----+----+----+----+----+--------------------+------------------+\n|          Chile|   All Institutions |                 Public|NULL| 4.2| 3.3| 4.1| 4.3| 3.9|[4.2,3.3,4.1,4.3,...| 4.199194677871148|\n|         Israel|   All Institutions |                 Public|NULL| 6.6| 6.2| 5.8| 5.9| 5.6|[6.6,6.2,5.8,5.9,...| 6.079642857142856|\n|          Chile|Elementary and Se...|                 Public|NULL| 3.2| 2.7| 3.3| 2.9| 2.7|[3.2,2.7,3.3,2.9,...|3.1600876068376063|\n|         Israel|Elementary and Se...|                 Public|NULL| 4.5| 4.2| 3.8| 4.0| 3.8|[4.5,4.2,3.8,4.0,...| 4.460674836601307|\n|Slovak Republic|Elementary and Se...|                 Public|NULL| 2.7| 2.5| 2.7| 2.8| 2.5|[2.7,2.5,2.7,2.8,...|2.9991987179487176|\n|          Chile|Higher Education ...|                 Public|NULL| 0.6| 0.3| 0.3| 0.8| 0.7|[0.6,0.3,0.3,0.8,...|0.6506666666666668|\n|         Israel|Higher Education ...|                 Public|NULL| 1.1| 1.0| 1.0| 1.0| 0.9|[1.1,1.0,1.0,1.0,...| 0.888578855784738|\n|Slovak Republic|Higher Education ...|                 Public|NULL| 0.7| 0.7| 0.7| 0.7| 0.8|[0.7,0.7,0.7,0.7,...|0.8116666666666668|\n+---------------+--------------------+-----------------------+----+----+----+----+----+----+--------------------+------------------+\n\n"
     ]
    }
   ],
   "source": [
    "missing_predictions_1995.show()"
   ]
  },
  {
   "cell_type": "code",
   "execution_count": 0,
   "metadata": {
    "application/vnd.databricks.v1+cell": {
     "cellMetadata": {
      "byteLimit": 2048000,
      "rowLimit": 10000
     },
     "inputWidgets": {},
     "nuid": "081a761b-e98f-4e30-bbc7-ffe459ed2ee8",
     "showTitle": false,
     "title": ""
    }
   },
   "outputs": [
    {
     "output_type": "stream",
     "name": "stdout",
     "output_type": "stream",
     "text": [
      "+---------------+------------------+\n|        country|    predicted_1995|\n+---------------+------------------+\n|          Chile| 4.199194677871148|\n|         Israel| 6.079642857142856|\n|          Chile|3.1600876068376063|\n|         Israel| 4.460674836601307|\n|Slovak Republic|2.9991987179487176|\n|          Chile|0.6506666666666668|\n|         Israel| 0.888578855784738|\n|Slovak Republic|0.8116666666666668|\n+---------------+------------------+\n\n"
     ]
    }
   ],
   "source": [
    "from pyspark.sql.functions import col\n",
    "\n",
    "# Select the 'country' and 'prediction' columns, renaming 'prediction' to 'predicted_1995'\n",
    "predicted_1995_df = missing_predictions_1995.select(\n",
    "    col(\"country\"),\n",
    "    col(\"prediction\").alias(\"predicted_1995\")\n",
    ")\n",
    "\n",
    "predicted_1995_df.show()\n"
   ]
  },
  {
   "cell_type": "code",
   "execution_count": 0,
   "metadata": {
    "application/vnd.databricks.v1+cell": {
     "cellMetadata": {
      "byteLimit": 2048000,
      "rowLimit": 10000
     },
     "inputWidgets": {},
     "nuid": "15336cad-064d-4934-90b9-683274aa6e25",
     "showTitle": false,
     "title": ""
    }
   },
   "outputs": [],
   "source": [
    "# Adjust feature columns for predicting 2000, exclude 2000 from features\n",
    "feature_columns_2000 = ['1995', '2005', '2009', '2010', '2011']\n",
    "target_column_2000 = '2000'\n",
    "\n",
    "# Assemble features for 2000\n",
    "assembler_2000 = VectorAssembler(inputCols=feature_columns_2000, outputCol=\"features\")\n"
   ]
  },
  {
   "cell_type": "code",
   "execution_count": 0,
   "metadata": {
    "application/vnd.databricks.v1+cell": {
     "cellMetadata": {
      "byteLimit": 2048000,
      "rowLimit": 10000
     },
     "inputWidgets": {},
     "nuid": "bb32c59c-f0e7-4bee-acdf-50a073ab3def",
     "showTitle": false,
     "title": ""
    }
   },
   "outputs": [],
   "source": [
    "# Define the pipeline for 2000\n",
    "pipeline_2000 = Pipeline(stages=[assembler_2000, RandomForestRegressor(featuresCol=\"features\", labelCol=target_column_2000)])\n",
    "\n",
    "# Train the model for 2000\n",
    "model_2000 = pipeline_2000.fit(rows_with_all_filled)\n"
   ]
  },
  {
   "cell_type": "code",
   "execution_count": 0,
   "metadata": {
    "application/vnd.databricks.v1+cell": {
     "cellMetadata": {
      "byteLimit": 2048000,
      "rowLimit": 10000
     },
     "inputWidgets": {},
     "nuid": "b5e610e7-fef9-40f2-a887-b2773df795cd",
     "showTitle": false,
     "title": ""
    }
   },
   "outputs": [
    {
     "output_type": "stream",
     "name": "stdout",
     "output_type": "stream",
     "text": [
      "+-----------------+--------------------+\n|       prediction|            features|\n+-----------------+--------------------+\n|3.651616698360119|[4.2,3.7,3.2,3.4,...|\n+-----------------+--------------------+\n\n"
     ]
    }
   ],
   "source": [
    "# Predict missing values for 2000\n",
    "missing_predictions_2000 = model_2000.transform(missing_2000)\n",
    "\n",
    "# Show predicted values for 2000\n",
    "missing_predictions_2000.select(\"prediction\", \"features\").show()\n"
   ]
  },
  {
   "cell_type": "code",
   "execution_count": 0,
   "metadata": {
    "application/vnd.databricks.v1+cell": {
     "cellMetadata": {
      "byteLimit": 2048000,
      "rowLimit": 10000
     },
     "inputWidgets": {},
     "nuid": "753f738c-bcb4-4cf1-b4f2-41e731097c77",
     "showTitle": false,
     "title": ""
    }
   },
   "outputs": [
    {
     "output_type": "stream",
     "name": "stdout",
     "output_type": "stream",
     "text": [
      "+----------+--------------------+-----------------------+----+----+----+----+----+----+--------------------+-----------------+\n|   country|      institute_type|direct_expenditure_type|1995|2000|2005|2009|2010|2011|            features|       prediction|\n+----------+--------------------+-----------------------+----+----+----+----+----+----+--------------------+-----------------+\n|Luxembourg|Elementary and Se...|                 Public| 4.2|NULL| 3.7| 3.2| 3.4| 3.3|[4.2,3.7,3.2,3.4,...|3.651616698360119|\n+----------+--------------------+-----------------------+----+----+----+----+----+----+--------------------+-----------------+\n\n"
     ]
    }
   ],
   "source": [
    "missing_predictions_2000.show()"
   ]
  },
  {
   "cell_type": "code",
   "execution_count": 0,
   "metadata": {
    "application/vnd.databricks.v1+cell": {
     "cellMetadata": {
      "byteLimit": 2048000,
      "rowLimit": 10000
     },
     "inputWidgets": {},
     "nuid": "e1c59ac3-6e16-4898-a4b1-4d8a88ebfaa6",
     "showTitle": false,
     "title": ""
    }
   },
   "outputs": [
    {
     "output_type": "stream",
     "name": "stdout",
     "output_type": "stream",
     "text": [
      "+----------+-----------------+\n|   country|   predicted_2000|\n+----------+-----------------+\n|Luxembourg|3.651616698360119|\n+----------+-----------------+\n\n"
     ]
    }
   ],
   "source": [
    "from pyspark.sql.functions import col\n",
    "\n",
    "# Select the 'country' and 'prediction' columns, renaming 'prediction' to 'predicted_2000'\n",
    "predicted_2000_df = missing_predictions_2000.select(\n",
    "    col(\"country\"),\n",
    "    col(\"prediction\").alias(\"predicted_2000\")\n",
    ")\n",
    "\n",
    "predicted_2000_df.show()\n"
   ]
  },
  {
   "cell_type": "code",
   "execution_count": 0,
   "metadata": {
    "application/vnd.databricks.v1+cell": {
     "cellMetadata": {
      "byteLimit": 2048000,
      "rowLimit": 10000
     },
     "inputWidgets": {},
     "nuid": "a316b5ca-8025-480f-81a1-644cd1bf296e",
     "showTitle": false,
     "title": ""
    }
   },
   "outputs": [
    {
     "output_type": "stream",
     "name": "stdout",
     "output_type": "stream",
     "text": [
      "+------------------+--------------------+\n|        prediction|            features|\n+------------------+--------------------+\n| 4.433299145299145|[4.5,4.3,4.2,4.5,...|\n|              2.81|[2.9,2.9,2.8,2.9,...|\n|1.0513749999999997|[1.0,1.0,0.9,1.1,...|\n+------------------+--------------------+\n\n"
     ]
    }
   ],
   "source": [
    "# Adjust feature columns for predicting 2010, exclude 2010 from features\n",
    "feature_columns_2010 = ['1995', '2000', '2005', '2009', '2011']\n",
    "target_column_2010 = '2010'\n",
    "\n",
    "# Assemble features for 2010\n",
    "assembler_2010 = VectorAssembler(inputCols=feature_columns_2010, outputCol=\"features\")\n",
    "\n",
    "# Define the pipeline for 2010\n",
    "pipeline_2010 = Pipeline(stages=[assembler_2010, RandomForestRegressor(featuresCol=\"features\", labelCol=target_column_2010)])\n",
    "\n",
    "# Train the model for 2010\n",
    "model_2010 = pipeline_2010.fit(rows_with_all_filled)\n",
    "\n",
    "# Predict missing values for 2010\n",
    "missing_predictions_2010 = model_2010.transform(missing_2010)\n",
    "\n",
    "# Show predicted values for 2010\n",
    "missing_predictions_2010.select(\"prediction\", \"features\").show()\n"
   ]
  },
  {
   "cell_type": "code",
   "execution_count": 0,
   "metadata": {
    "application/vnd.databricks.v1+cell": {
     "cellMetadata": {
      "byteLimit": 2048000,
      "rowLimit": 10000
     },
     "inputWidgets": {},
     "nuid": "71312a34-4cb9-4f28-8aa9-e0fa8a06d45e",
     "showTitle": false,
     "title": ""
    }
   },
   "outputs": [
    {
     "output_type": "stream",
     "name": "stdout",
     "output_type": "stream",
     "text": [
      "+-------+--------------------+-----------------------+----+----+----+----+----+----+--------------------+------------------+\n|country|      institute_type|direct_expenditure_type|1995|2000|2005|2009|2010|2011|            features|        prediction|\n+-------+--------------------+-----------------------+----+----+----+----+----+----+--------------------+------------------+\n|Germany|   All Institutions |                 Public| 4.5| 4.3| 4.2| 4.5|NULL| 4.4|[4.5,4.3,4.2,4.5,...| 4.433299145299145|\n|Germany|Elementary and Se...|                 Public| 2.9| 2.9| 2.8| 2.9|NULL| 2.8|[2.9,2.9,2.8,2.9,...|              2.81|\n|Germany|Higher Education ...|                 Public| 1.0| 1.0| 0.9| 1.1|NULL| 1.1|[1.0,1.0,0.9,1.1,...|1.0513749999999997|\n+-------+--------------------+-----------------------+----+----+----+----+----+----+--------------------+------------------+\n\n"
     ]
    }
   ],
   "source": [
    "missing_predictions_2010.show()"
   ]
  },
  {
   "cell_type": "code",
   "execution_count": 0,
   "metadata": {
    "application/vnd.databricks.v1+cell": {
     "cellMetadata": {
      "byteLimit": 2048000,
      "rowLimit": 10000
     },
     "inputWidgets": {},
     "nuid": "de6cf301-4154-4b33-ac7b-d00b5fbb2d99",
     "showTitle": false,
     "title": ""
    }
   },
   "outputs": [
    {
     "output_type": "stream",
     "name": "stdout",
     "output_type": "stream",
     "text": [
      "+-------+------------------+\n|country|    predicted_2010|\n+-------+------------------+\n|Germany| 4.433299145299145|\n|Germany|              2.81|\n|Germany|1.0513749999999997|\n+-------+------------------+\n\n"
     ]
    }
   ],
   "source": [
    "from pyspark.sql.functions import col\n",
    "\n",
    "# Select the 'country' and 'prediction' columns, renaming 'prediction' to 'predicted_2010'\n",
    "predicted_2010_df = missing_predictions_2010.select(\n",
    "    col(\"country\"),\n",
    "    col(\"prediction\").alias(\"predicted_2010\")\n",
    ")\n",
    "\n",
    "predicted_2010_df.show()\n"
   ]
  },
  {
   "cell_type": "code",
   "execution_count": 0,
   "metadata": {
    "application/vnd.databricks.v1+cell": {
     "cellMetadata": {
      "byteLimit": 2048000,
      "rowLimit": 10000
     },
     "inputWidgets": {},
     "nuid": "1c69f30e-c5d5-48ab-a028-9f16b8ed5c54",
     "showTitle": false,
     "title": ""
    }
   },
   "outputs": [
    {
     "output_type": "stream",
     "name": "stdout",
     "output_type": "stream",
     "text": [
      "+------------------+--------------------+\n|        prediction|            features|\n+------------------+--------------------+\n| 5.040208805083805|[5.8,5.2,4.8,5.0,...|\n| 3.387267857142857|[4.0,3.3,3.3,3.4,...|\n|1.5887500000000006|[1.5,1.6,1.5,1.5,...|\n+------------------+--------------------+\n\n"
     ]
    }
   ],
   "source": [
    "# Adjust feature columns for predicting 2011, exclude 2011 from features\n",
    "feature_columns_2011 = ['1995', '2000', '2005', '2009', '2010']\n",
    "target_column_2011 = '2011'\n",
    "\n",
    "# Assemble features for 2011\n",
    "assembler_2011 = VectorAssembler(inputCols=feature_columns_2011, outputCol=\"features\")\n",
    "\n",
    "# Define the pipeline for 2011\n",
    "pipeline_2011 = Pipeline(stages=[assembler_2011, RandomForestRegressor(featuresCol=\"features\", labelCol=target_column_2011)])\n",
    "\n",
    "# Train the model for 2011\n",
    "model_2011 = pipeline_2011.fit(rows_with_all_filled)\n",
    "\n",
    "# Predict missing values for 2011\n",
    "missing_predictions_2011 = model_2011.transform(missing_2011)\n",
    "\n",
    "# Show predicted values for 2011\n",
    "missing_predictions_2011.select(\"prediction\", \"features\").show()\n"
   ]
  },
  {
   "cell_type": "code",
   "execution_count": 0,
   "metadata": {
    "application/vnd.databricks.v1+cell": {
     "cellMetadata": {
      "byteLimit": 2048000,
      "rowLimit": 10000
     },
     "inputWidgets": {},
     "nuid": "96946e59-fb35-4a40-a6f9-f381e11c642b",
     "showTitle": false,
     "title": ""
    }
   },
   "outputs": [
    {
     "output_type": "stream",
     "name": "stdout",
     "output_type": "stream",
     "text": [
      "+-------+--------------------+-----------------------+----+----+----+----+----+----+--------------------+------------------+\n|country|      institute_type|direct_expenditure_type|1995|2000|2005|2009|2010|2011|            features|        prediction|\n+-------+--------------------+-----------------------+----+----+----+----+----+----+--------------------+------------------+\n| Canada|   All Institutions |                 Public| 5.8| 5.2| 4.8| 5.0| 5.2|NULL|[5.8,5.2,4.8,5.0,...| 5.040208805083805|\n| Canada|Elementary and Se...|                 Public| 4.0| 3.3| 3.3| 3.4| 3.6|NULL|[4.0,3.3,3.3,3.4,...| 3.387267857142857|\n| Canada|Higher Education ...|                 Public| 1.5| 1.6| 1.5| 1.5| 1.6|NULL|[1.5,1.6,1.5,1.5,...|1.5887500000000006|\n+-------+--------------------+-----------------------+----+----+----+----+----+----+--------------------+------------------+\n\n"
     ]
    }
   ],
   "source": [
    "missing_predictions_2011.show()"
   ]
  },
  {
   "cell_type": "code",
   "execution_count": 0,
   "metadata": {
    "application/vnd.databricks.v1+cell": {
     "cellMetadata": {
      "byteLimit": 2048000,
      "rowLimit": 10000
     },
     "inputWidgets": {},
     "nuid": "6671304a-a5c7-46de-933e-9b22228f7514",
     "showTitle": false,
     "title": ""
    }
   },
   "outputs": [
    {
     "output_type": "stream",
     "name": "stdout",
     "output_type": "stream",
     "text": [
      "+-------+------------------+\n|country|    predicted_2011|\n+-------+------------------+\n| Canada| 5.040208805083805|\n| Canada| 3.387267857142857|\n| Canada|1.5887500000000006|\n+-------+------------------+\n\n"
     ]
    }
   ],
   "source": [
    "from pyspark.sql.functions import col\n",
    "\n",
    "# Select the 'country' and 'prediction' columns, renaming 'prediction' to 'predicted_2011'\n",
    "predicted_2011_df = missing_predictions_2011.select(\n",
    "    col(\"country\"),\n",
    "    col(\"prediction\").alias(\"predicted_2011\")\n",
    ")\n",
    "\n",
    "predicted_2011_df.show()\n"
   ]
  },
  {
   "cell_type": "code",
   "execution_count": 0,
   "metadata": {
    "application/vnd.databricks.v1+cell": {
     "cellMetadata": {
      "byteLimit": 2048000,
      "rowLimit": 10000
     },
     "inputWidgets": {},
     "nuid": "7b5150b0-d24f-427a-91ca-9e603508a30b",
     "showTitle": false,
     "title": ""
    }
   },
   "outputs": [
    {
     "output_type": "stream",
     "name": "stdout",
     "output_type": "stream",
     "text": [
      "+--------------+-----------------+-----------------------+------------------+-----------------+----+----+------------------+------------------+\n|       country|   institute_type|direct_expenditure_type|              1995|             2000|2005|2009|              2010|              2011|\n+--------------+-----------------+-----------------------+------------------+-----------------+----+----+------------------+------------------+\n|         Chile|All Institutions |                 Public|0.6506666666666668|              4.2| 3.3| 4.1|               4.3|               3.9|\n|        Israel|All Institutions |                 Public| 0.888578855784738|              6.6| 6.2| 5.8|               5.9|               5.6|\n|    Luxembourg|All Institutions |                 Public|               4.3|3.651616698360119|NULL|NULL|              NULL|              NULL|\n|       Germany|All Institutions |                 Public|               4.5|              4.3| 4.2| 4.5|1.0513749999999997|               4.4|\n|        Canada|All Institutions |                 Public|               5.8|              5.2| 4.8| 5.0|               5.2|1.5887500000000006|\n|  OECD Average|All Institutions |                 Public|               4.9|              4.9| 5.0| 5.4|               5.4|               5.3|\n|     Australia|All Institutions |                 Public|               4.5|              4.6| 4.3| 4.5|               4.6|               4.3|\n|       Austria|All Institutions |                 Public|               5.3|              5.4| 5.2| 5.7|               5.6|               5.5|\n|       Belgium|All Institutions |                 Public|               5.0|              5.1| 5.8| 6.4|               6.4|               6.4|\n|Czech Republic|All Institutions |                 Public|               4.8|              4.2| 4.1| 4.2|               4.1|               4.4|\n|       Denmark|All Institutions |                 Public|               6.5|              6.4| 6.8| 7.5|               7.6|               7.5|\n|       Estonia|All Institutions |                 Public|              NULL|             NULL| 4.7| 5.9|               5.6|               5.2|\n|       Finland|All Institutions |                 Public|               6.6|              5.5| 5.9| 6.3|               6.4|               6.3|\n|        France|All Institutions |                 Public|               5.8|              5.7| 5.6| 5.8|               5.8|               5.6|\n|        Greece|All Institutions |                 Public|               3.7|              3.7| 4.0|NULL|              NULL|              NULL|\n|       Hungary|All Institutions |                 Public|               4.9|              4.4| 5.1| 4.8|               4.6|               4.4|\n|       Iceland|All Institutions |                 Public|               4.5|              5.7| 7.2| 7.3|               7.0|               6.9|\n|       Ireland|All Institutions |                 Public|               4.7|              4.1| 4.3| 6.0|               6.0|               5.7|\n|         Italy|All Institutions |                 Public|               4.5|              4.5| 4.3| 4.5|               4.3|               4.2|\n|         Japan|All Institutions |                 Public|               3.6|              3.5| 3.4| 3.6|               3.6|               3.6|\n+--------------+-----------------+-----------------------+------------------+-----------------+----+----+------------------+------------------+\nonly showing top 20 rows\n\n"
     ]
    }
   ],
   "source": [
    "from pyspark.sql.functions import coalesce\n",
    "\n",
    "# Assuming expenditure is your original DataFrame\n",
    "# And that predicted_1995_df, predicted_2000_df, predicted_2010_df, predicted_2011_df\n",
    "# have been correctly defined as per previous steps\n",
    "\n",
    "# Join the original dataset with each of the predicted DataFrames on 'country'\n",
    "updated_expenditure = expenditure \\\n",
    "    .join(predicted_1995_df, on=\"country\", how=\"left\") \\\n",
    "    .join(predicted_2000_df, on=\"country\", how=\"left\") \\\n",
    "    .join(predicted_2010_df, on=\"country\", how=\"left\") \\\n",
    "    .join(predicted_2011_df, on=\"country\", how=\"left\")\n",
    "\n",
    "# Update the original year columns with the predictions where original values are null\n",
    "updated_expenditure = updated_expenditure \\\n",
    "    .withColumn(\"1995\", coalesce(col(\"1995\"), col(\"predicted_1995\"))) \\\n",
    "    .withColumn(\"2000\", coalesce(col(\"2000\"), col(\"predicted_2000\"))) \\\n",
    "    .withColumn(\"2010\", coalesce(col(\"2010\"), col(\"predicted_2010\"))) \\\n",
    "    .withColumn(\"2011\", coalesce(col(\"2011\"), col(\"predicted_2011\")))\n",
    "\n",
    "# Drop the temporary prediction columns as they're no longer needed\n",
    "updated_expenditure = updated_expenditure.drop(\"predicted_1995\", \"predicted_2000\", \"predicted_2010\", \"predicted_2011\")\n",
    "\n",
    "# Display the updated DataFrame to verify the changes\n",
    "updated_expenditure.show()\n"
   ]
  },
  {
   "cell_type": "code",
   "execution_count": 0,
   "metadata": {
    "application/vnd.databricks.v1+cell": {
     "cellMetadata": {
      "byteLimit": 2048000,
      "rowLimit": 10000
     },
     "inputWidgets": {},
     "nuid": "f6d6fbde-8724-4426-b97d-63e1052c5b57",
     "showTitle": false,
     "title": ""
    }
   },
   "outputs": [],
   "source": [
    "# Define the path in DBFS where you want to save the updated dataset\n",
    "dbfs_path = \"/mnt/IkigaiGuide/ikigai-transformed-data/updated_expenditure\"\n",
    "\n",
    "# Save the updated DataFrame as a CSV file\n",
    "updated_expenditure.write.mode(\"overwrite\").option(\"header\", \"true\").csv(dbfs_path)\n"
   ]
  },
  {
   "cell_type": "code",
   "execution_count": 0,
   "metadata": {
    "application/vnd.databricks.v1+cell": {
     "cellMetadata": {},
     "inputWidgets": {},
     "nuid": "52900d7b-532f-4898-b2d1-acab46ad9baa",
     "showTitle": false,
     "title": ""
    }
   },
   "outputs": [],
   "source": []
  },
  {
   "cell_type": "code",
   "execution_count": 0,
   "metadata": {
    "application/vnd.databricks.v1+cell": {
     "cellMetadata": {},
     "inputWidgets": {},
     "nuid": "954a75ef-5e66-493c-afad-db09dab598a6",
     "showTitle": false,
     "title": ""
    }
   },
   "outputs": [],
   "source": []
  },
  {
   "cell_type": "code",
   "execution_count": 0,
   "metadata": {
    "application/vnd.databricks.v1+cell": {
     "cellMetadata": {
      "byteLimit": 2048000,
      "rowLimit": 10000
     },
     "inputWidgets": {},
     "nuid": "e92b72e9-0ae0-48cd-9532-2d32607981a4",
     "showTitle": false,
     "title": ""
    }
   },
   "outputs": [
    {
     "output_type": "stream",
     "name": "stdout",
     "output_type": "stream",
     "text": [
      "+------------+--------------------+----+----+----+----+----+----+----+----+----+----+----+----+----+----+----+----+----+----+----+----+----+----+----+----+----+----+----+\n|country_name|         series_name|1985|1986|1987|1990|1991|1992|1993|1995|1996|1997|1998|1999|2000|2001|2002|2003|2004|2005|2006|2007|2008|2009|2010|2011|2012|2013|2015|\n+------------+--------------------+----+----+----+----+----+----+----+----+----+----+----+----+----+----+----+----+----+----+----+----+----+----+----+----+----+----+----+\n| Afghanistan|Barro-Lee: Averag...|0.33|NULL|NULL|0.44|NULL|NULL|NULL|0.57|NULL|NULL|NULL|NULL|0.75|NULL|NULL|NULL|NULL|0.86|NULL|NULL|NULL|NULL|1.27|NULL|NULL|NULL|NULL|\n| Afghanistan|Barro-Lee: Averag...|1.03|NULL|NULL|1.26|NULL|NULL|NULL|1.54|NULL|NULL|NULL|NULL|2.01|NULL|NULL|NULL|NULL|2.18|NULL|NULL|NULL|NULL|2.64|NULL|NULL|NULL|NULL|\n| Afghanistan|Barro-Lee: Averag...|0.83|NULL|NULL|0.95|NULL|NULL|NULL|1.26|NULL|NULL|NULL|NULL|1.92|NULL|NULL|NULL|NULL|1.01|NULL|NULL|NULL|NULL|2.45|NULL|NULL|NULL|NULL|\n| Afghanistan|Barro-Lee: Averag...|2.34|NULL|NULL|2.22|NULL|NULL|NULL|2.37|NULL|NULL|NULL|NULL|3.83|NULL|NULL|NULL|NULL|2.26|NULL|NULL|NULL|NULL|3.55|NULL|NULL|NULL|NULL|\n| Afghanistan|Barro-Lee: Averag...|0.54|NULL|NULL|0.92|NULL|NULL|NULL|0.94|NULL|NULL|NULL|NULL|1.26|NULL|NULL|NULL|NULL| 2.0|NULL|NULL|NULL|NULL|1.29|NULL|NULL|NULL|NULL|\n| Afghanistan|Barro-Lee: Averag...|1.52|NULL|NULL|2.51|NULL|NULL|NULL|2.27|NULL|NULL|NULL|NULL|2.48|NULL|NULL|NULL|NULL|3.93|NULL|NULL|NULL|NULL|2.64|NULL|NULL|NULL|NULL|\n| Afghanistan|Barro-Lee: Averag...|0.17|NULL|NULL|0.25|NULL|NULL|NULL|0.37|NULL|NULL|NULL|NULL|0.48|NULL|NULL|NULL|NULL|0.63|NULL|NULL|NULL|NULL|0.81|NULL|NULL|NULL|NULL|\n| Afghanistan|Barro-Lee: Averag...|0.66|NULL|NULL|0.85|NULL|NULL|NULL|1.14|NULL|NULL|NULL|NULL|1.38|NULL|NULL|NULL|NULL|1.69|NULL|NULL|NULL|NULL|2.19|NULL|NULL|NULL|NULL|\n| Afghanistan|Barro-Lee: Averag...|0.44|NULL|NULL|0.54|NULL|NULL|NULL|0.92|NULL|NULL|NULL|NULL|0.94|NULL|NULL|NULL|NULL|1.26|NULL|NULL|NULL|NULL|1.92|NULL|NULL|NULL|NULL|\n| Afghanistan|Barro-Lee: Averag...|1.28|NULL|NULL|1.52|NULL|NULL|NULL|2.51|NULL|NULL|NULL|NULL|2.27|NULL|NULL|NULL|NULL|2.48|NULL|NULL|NULL|NULL|3.93|NULL|NULL|NULL|NULL|\n| Afghanistan|Barro-Lee: Averag...|0.22|NULL|NULL|0.44|NULL|NULL|NULL|0.54|NULL|NULL|NULL|NULL|0.92|NULL|NULL|NULL|NULL|0.94|NULL|NULL|NULL|NULL|1.26|NULL|NULL|NULL|NULL|\n| Afghanistan|Barro-Lee: Averag...|0.95|NULL|NULL|1.28|NULL|NULL|NULL|1.52|NULL|NULL|NULL|NULL|2.51|NULL|NULL|NULL|NULL|2.27|NULL|NULL|NULL|NULL|2.48|NULL|NULL|NULL|NULL|\n| Afghanistan|Barro-Lee: Averag...|0.22|NULL|NULL|0.22|NULL|NULL|NULL|0.44|NULL|NULL|NULL|NULL|0.54|NULL|NULL|NULL|NULL|0.92|NULL|NULL|NULL|NULL|0.94|NULL|NULL|NULL|NULL|\n| Afghanistan|Barro-Lee: Averag...|0.95|NULL|NULL|0.95|NULL|NULL|NULL|1.28|NULL|NULL|NULL|NULL|1.52|NULL|NULL|NULL|NULL|2.51|NULL|NULL|NULL|NULL|2.27|NULL|NULL|NULL|NULL|\n| Afghanistan|Barro-Lee: Averag...|0.06|NULL|NULL|0.22|NULL|NULL|NULL|0.22|NULL|NULL|NULL|NULL|0.44|NULL|NULL|NULL|NULL|0.54|NULL|NULL|NULL|NULL|0.92|NULL|NULL|NULL|NULL|\n| Afghanistan|Barro-Lee: Averag...|0.36|NULL|NULL|0.95|NULL|NULL|NULL|0.95|NULL|NULL|NULL|NULL|1.28|NULL|NULL|NULL|NULL|1.52|NULL|NULL|NULL|NULL|2.51|NULL|NULL|NULL|NULL|\n| Afghanistan|Barro-Lee: Averag...|0.06|NULL|NULL|0.06|NULL|NULL|NULL|0.22|NULL|NULL|NULL|NULL|0.22|NULL|NULL|NULL|NULL|0.44|NULL|NULL|NULL|NULL|0.54|NULL|NULL|NULL|NULL|\n| Afghanistan|Barro-Lee: Averag...|0.36|NULL|NULL|0.36|NULL|NULL|NULL|0.95|NULL|NULL|NULL|NULL|0.95|NULL|NULL|NULL|NULL|1.28|NULL|NULL|NULL|NULL|1.52|NULL|NULL|NULL|NULL|\n| Afghanistan|Barro-Lee: Averag...|0.02|NULL|NULL|0.06|NULL|NULL|NULL|0.06|NULL|NULL|NULL|NULL|0.22|NULL|NULL|NULL|NULL|0.22|NULL|NULL|NULL|NULL|0.44|NULL|NULL|NULL|NULL|\n| Afghanistan|Barro-Lee: Averag...|0.24|NULL|NULL|0.36|NULL|NULL|NULL|0.36|NULL|NULL|NULL|NULL|0.95|NULL|NULL|NULL|NULL|0.95|NULL|NULL|NULL|NULL|1.28|NULL|NULL|NULL|NULL|\n+------------+--------------------+----+----+----+----+----+----+----+----+----+----+----+----+----+----+----+----+----+----+----+----+----+----+----+----+----+----+----+\nonly showing top 20 rows\n\n"
     ]
    }
   ],
   "source": [
    "# Adjusted file path to point to the specific file inside the ikigai-raw-data folder\n",
    "file_path = \"/mnt/IkigaiGuide/ikigai-raw-data/educational_attainment.csv\"\n",
    "\n",
    "# Load the dataset\n",
    "attainment = spark.read.option(\"header\", \"true\").option(\"inferSchema\", \"true\").csv(file_path)\n",
    "\n",
    "# Display the first few rows of the DataFrame to understand its structure\n",
    "attainment.show()"
   ]
  },
  {
   "cell_type": "code",
   "execution_count": 0,
   "metadata": {
    "application/vnd.databricks.v1+cell": {
     "cellMetadata": {
      "byteLimit": 2048000,
      "rowLimit": 10000
     },
     "inputWidgets": {},
     "nuid": "53400d0c-dc68-400e-9f34-52547425eaa4",
     "showTitle": false,
     "title": ""
    }
   },
   "outputs": [
    {
     "output_type": "execute_result",
     "data": {
      "text/plain": [
       "[('country_name', 'string'),\n",
       " ('series_name', 'string'),\n",
       " ('1985', 'double'),\n",
       " ('1986', 'double'),\n",
       " ('1987', 'double'),\n",
       " ('1990', 'double'),\n",
       " ('1991', 'double'),\n",
       " ('1992', 'double'),\n",
       " ('1993', 'double'),\n",
       " ('1995', 'double'),\n",
       " ('1996', 'double'),\n",
       " ('1997', 'string'),\n",
       " ('1998', 'double'),\n",
       " ('1999', 'double'),\n",
       " ('2000', 'double'),\n",
       " ('2001', 'double'),\n",
       " ('2002', 'double'),\n",
       " ('2003', 'double'),\n",
       " ('2004', 'double'),\n",
       " ('2005', 'double'),\n",
       " ('2006', 'double'),\n",
       " ('2007', 'double'),\n",
       " ('2008', 'double'),\n",
       " ('2009', 'double'),\n",
       " ('2010', 'double'),\n",
       " ('2011', 'double'),\n",
       " ('2012', 'double'),\n",
       " ('2013', 'double'),\n",
       " ('2015', 'string')]"
      ]
     },
     "execution_count": 46,
     "metadata": {},
     "output_type": "execute_result"
    }
   ],
   "source": [
    "attainment.dtypes"
   ]
  },
  {
   "cell_type": "code",
   "execution_count": 0,
   "metadata": {
    "application/vnd.databricks.v1+cell": {
     "cellMetadata": {
      "byteLimit": 2048000,
      "rowLimit": 10000
     },
     "inputWidgets": {},
     "nuid": "a53f3e19-9689-48de-8e56-c69de8003c8d",
     "showTitle": false,
     "title": ""
    }
   },
   "outputs": [
    {
     "output_type": "stream",
     "name": "stdout",
     "output_type": "stream",
     "text": [
      "+-------+------------+--------------------+------------------+------------------+------------------+------------------+-------+-------------------+-------+-----------------+------------------+----+------------------+------------------+-----------------+------------------+-----------------+------------------+------------------+------------------+-----------------+------------------+------------------+------------------+-----------------+------------------+-----------------+------------------+----+\n|summary|country_name|         series_name|              1985|              1986|              1987|              1990|   1991|               1992|   1993|             1995|              1996|1997|              1998|              1999|             2000|              2001|             2002|              2003|              2004|              2005|             2006|              2007|              2008|              2009|             2010|              2011|             2012|              2013|2015|\n+-------+------------+--------------------+------------------+------------------+------------------+------------------+-------+-------------------+-------+-----------------+------------------+----+------------------+------------------+-----------------+------------------+-----------------+------------------+------------------+------------------+-----------------+------------------+------------------+------------------+-----------------+------------------+-----------------+------------------+----+\n|  count|       79052|               79050|             51843|                12|                 3|             51846|      1|                  3|      1|            51884|                 3|   0|                47|                 9|            51970|               225|              184|                55|               137|             52037|              204|               286|               366|               464|            52796|               929|             1106|              1879|   0|\n|   mean|        NULL|                NULL|253.05928946048272| 6.365241666666667|           1.98822|280.06165014542756|7.58463|  5.758003333333334|6.22103|306.7748262174591| 7.799310000000001|NULL|       8.811033473|10.010412222222222|334.7804374578292|16.347224682244445|16.28285792303805| 19.52806712869091|11.737982907299271|363.51987250337703|13.17286126742647|16.073779570527975|14.849021030125684|17.527544272553882|386.6418423092311| 20.35165231944887|19.48337531821429| 23.11374201766151|NULL|\n| stddev|        NULL|                NULL| 5812.705428913252|2.3359957965008626|0.8830439490195264| 6525.945102446445|   NULL|0.24401015088174766|   NULL|7192.240329393122|0.3014501438049085|NULL|13.700154222872266|0.5235066254541999|7877.842661268458|21.523525737481187|21.44567521561179|22.526506053608543| 16.95987147172806| 8563.497492674975|14.75634321007679| 22.69664240177035| 17.94756819328231|22.434285290157405|9146.338285719252|25.186300564790336|24.03637250456566|28.481771844317592|NULL|\n|    min| Afghanistan|Barro-Lee: Averag...|               0.0|            3.7406|           1.11897|               0.0|7.58463|            5.51415|6.22103|              0.0|           7.49769|NULL|               0.0|           9.47552|              0.0|               0.0|              0.0|           0.16129|               0.0|               0.0|          0.12933|               0.0|               0.0|               0.0|              0.0|               0.0|              0.0|               0.0|NULL|\n|    max|    Zimbabwe|UIS: Percentage o...|          745898.0|          10.19288|           2.88444|          835430.0|7.58463|            6.00217|6.22103|         896920.0|           8.10059|NULL|          55.25822|          11.13991|         958307.0|          98.25549|         91.68136|          90.41407|          85.39676|         1034076.0|         93.68704|          99.99305|          97.70276|          98.72121|        1090693.0|          99.52137|         98.67698|             100.0|NULL|\n+-------+------------+--------------------+------------------+------------------+------------------+------------------+-------+-------------------+-------+-----------------+------------------+----+------------------+------------------+-----------------+------------------+-----------------+------------------+------------------+------------------+-----------------+------------------+------------------+------------------+-----------------+------------------+-----------------+------------------+----+\n\n"
     ]
    }
   ],
   "source": [
    "\n",
    "attainment.describe().show()\n"
   ]
  },
  {
   "cell_type": "code",
   "execution_count": 0,
   "metadata": {
    "application/vnd.databricks.v1+cell": {
     "cellMetadata": {},
     "inputWidgets": {},
     "nuid": "f064047a-5480-4055-9223-03404d204231",
     "showTitle": false,
     "title": ""
    }
   },
   "outputs": [
    {
     "output_type": "stream",
     "name": "stdout",
     "output_type": "stream",
     "text": [
      "+------------+-----------+-----+-----+-----+-----+-----+-----+-----+-----+-----+-----+-----+-----+-----+-----+-----+-----+-----+-----+-----+-----+-----+-----+-----+-----+-----+-----+-----+\n|country_name|series_name| 1985| 1986| 1987| 1990| 1991| 1992| 1993| 1995| 1996| 1997| 1998| 1999| 2000| 2001| 2002| 2003| 2004| 2005| 2006| 2007| 2008| 2009| 2010| 2011| 2012| 2013| 2015|\n+------------+-----------+-----+-----+-----+-----+-----+-----+-----+-----+-----+-----+-----+-----+-----+-----+-----+-----+-----+-----+-----+-----+-----+-----+-----+-----+-----+-----+-----+\n|           3|          5|27212|79043|79052|27209|79054|79052|79054|27171|79052|79055|79008|79046|27085|78830|78871|79000|78918|27018|78851|78769|78689|78591|26259|78126|77949|77176|79055|\n+------------+-----------+-----+-----+-----+-----+-----+-----+-----+-----+-----+-----+-----+-----+-----+-----+-----+-----+-----+-----+-----+-----+-----+-----+-----+-----+-----+-----+-----+\n\n"
     ]
    }
   ],
   "source": [
    "from pyspark.sql.functions import col, sum\n",
    "\n",
    "# Assuming 'attainment' is your DataFrame\n",
    "# Count the missing values in each column\n",
    "missing_values = attainment.select([sum(col(column).isNull().cast(\"int\")).alias(column) for column in attainment.columns])\n",
    "\n",
    "# Display the result\n",
    "missing_values.show()\n"
   ]
  },
  {
   "cell_type": "code",
   "execution_count": 0,
   "metadata": {
    "application/vnd.databricks.v1+cell": {
     "cellMetadata": {},
     "inputWidgets": {},
     "nuid": "b06d0ead-ca5c-4cfa-8416-757d179d7a3b",
     "showTitle": false,
     "title": ""
    }
   },
   "outputs": [
    {
     "output_type": "stream",
     "name": "stdout",
     "output_type": "stream",
     "text": [
      "+-------+------------------+------------------+------------------+------------------+-------+-------------------+-------+-----------------+------------------+----+------------------+------------------+-----------------+------------------+-----------------+------------------+------------------+------------------+-----------------+------------------+------------------+------------------+-----------------+------------------+-----------------+------------------+----+\n|summary|              1985|              1986|              1987|              1990|   1991|               1992|   1993|             1995|              1996|1997|              1998|              1999|             2000|              2001|             2002|              2003|              2004|              2005|             2006|              2007|              2008|              2009|             2010|              2011|             2012|              2013|2015|\n+-------+------------------+------------------+------------------+------------------+-------+-------------------+-------+-----------------+------------------+----+------------------+------------------+-----------------+------------------+-----------------+------------------+------------------+------------------+-----------------+------------------+------------------+------------------+-----------------+------------------+-----------------+------------------+----+\n|  count|             51843|                12|                 3|             51846|      1|                  3|      1|            51884|                 3|   0|                47|                 9|            51970|               225|              184|                55|               137|             52037|              204|               286|               366|               464|            52796|               929|             1106|              1879|   0|\n|   mean|253.05928946048272| 6.365241666666667|           1.98822|280.06165014542756|7.58463|  5.758003333333334|6.22103|306.7748262174591| 7.799310000000001|NULL|       8.811033473|10.010412222222222|334.7804374578292|16.347224682244445|16.28285792303805| 19.52806712869091|11.737982907299271|363.51987250337703|13.17286126742647|16.073779570527975|14.849021030125684|17.527544272553882|386.6418423092311| 20.35165231944887|19.48337531821429| 23.11374201766151|NULL|\n| stddev| 5812.705428913252|2.3359957965008626|0.8830439490195264| 6525.945102446445|   NULL|0.24401015088174766|   NULL|7192.240329393122|0.3014501438049085|NULL|13.700154222872266|0.5235066254541999|7877.842661268458|21.523525737481187|21.44567521561179|22.526506053608543| 16.95987147172806| 8563.497492674975|14.75634321007679| 22.69664240177035| 17.94756819328231|22.434285290157405|9146.338285719252|25.186300564790336|24.03637250456566|28.481771844317592|NULL|\n|    min|               0.0|            3.7406|           1.11897|               0.0|7.58463|            5.51415|6.22103|              0.0|           7.49769|NULL|               0.0|           9.47552|              0.0|               0.0|              0.0|           0.16129|               0.0|               0.0|          0.12933|               0.0|               0.0|               0.0|              0.0|               0.0|              0.0|               0.0|NULL|\n|    25%|              1.02|           4.71829|           1.11897|              1.23|7.58463|            5.51415|6.22103|             1.54|           7.49769|NULL|       0.348337694|            9.6581|             1.71|           3.09057|      1.154063823|           6.88579|           3.54881|              1.93|          5.81334|           3.03233|           5.40618|           4.44511|             2.01|           2.74371|          1.48921|            1.0503|NULL|\n|    50%|              5.07|             5.412|           1.96125|              5.67|7.58463|            5.75769|6.22103|             6.25|           7.79965|NULL|           2.38688|           9.87822|             6.77|           9.06781|          7.45193|          11.25131|           7.29729|              7.24|          8.62346|            9.1711|           9.43164|          10.10621|             7.47|          10.79722|         10.59766|          11.87501|NULL|\n|    75%|             23.24|           6.37065|           2.88444|             24.08|7.58463|            6.00217|6.22103|            24.86|           8.10059|NULL|          11.14737|          10.02368|            25.19|          19.47818|          23.9678|          28.41552|          10.70231|              26.4|         14.93876|          16.25235|          14.67476|          17.42753|             27.0|          25.52938|         26.94193|          31.61242|NULL|\n|    max|          745898.0|          10.19288|           2.88444|          835430.0|7.58463|            6.00217|6.22103|         896920.0|           8.10059|NULL|          55.25822|          11.13991|         958307.0|          98.25549|         91.68136|          90.41407|          85.39676|         1034076.0|         93.68704|          99.99305|          97.70276|          98.72121|        1090693.0|          99.52137|         98.67698|             100.0|NULL|\n+-------+------------------+------------------+------------------+------------------+-------+-------------------+-------+-----------------+------------------+----+------------------+------------------+-----------------+------------------+-----------------+------------------+------------------+------------------+-----------------+------------------+------------------+------------------+-----------------+------------------+-----------------+------------------+----+\n\n"
     ]
    }
   ],
   "source": [
    "from pyspark.sql.functions import col\n",
    "\n",
    "# Select the columns for which you want to analyze the data distribution\n",
    "selected_columns = ['1985', '1986', '1987', '1990', '1991', '1992', '1993', '1995', '1996', '1997', '1998', '1999', '2000', '2001', '2002', '2003', '2004', '2005', '2006', '2007', '2008', '2009', '2010', '2011', '2012', '2013', '2015']\n",
    "\n",
    "# Calculate the statistical measures for each selected column\n",
    "summary = attainment.select(*[col(column).cast(\"double\") for column in selected_columns]).summary()\n",
    "\n",
    "# Display the result\n",
    "summary.show()"
   ]
  },
  {
   "cell_type": "code",
   "execution_count": 0,
   "metadata": {
    "application/vnd.databricks.v1+cell": {
     "cellMetadata": {},
     "inputWidgets": {},
     "nuid": "a6d9e877-a168-48f9-802d-9d785e7727bf",
     "showTitle": false,
     "title": ""
    }
   },
   "outputs": [],
   "source": [
    "import matplotlib.pyplot as plt\n",
    "\n",
    "# Select the columns for visualization\n",
    "selected_columns = ['1985', '1986', '1987', '1990', '1991', '1992', '1993', '1995', '1996', '1997', '1998', '1999', '2000', '2001', '2002', '2003', '2004', '2005', '2006', '2007', '2008', '2009', '2010', '2011', '2012', '2013', '2015']\n",
    "\n",
    "# Iterate through each selected column and create a histogram\n",
    "for column in selected_columns:\n",
    "    # Convert the column to a Pandas series for plotting\n",
    "    data = attainment.select(column).dropna().toPandas()[column]\n",
    "    \n",
    "    # Create a histogram\n",
    "    plt.figure(figsize=(8, 6))\n",
    "    plt.hist(data, bins=20, edgecolor='black')\n",
    "    plt.xlabel(column)\n",
    "    plt.ylabel('Count')\n",
    "    plt.title(f'Distribution of {column}')\n",
    "    plt.show()"
   ]
  },
  {
   "cell_type": "code",
   "execution_count": 0,
   "metadata": {
    "application/vnd.databricks.v1+cell": {
     "cellMetadata": {
      "byteLimit": 2048000,
      "rowLimit": 10000
     },
     "inputWidgets": {},
     "nuid": "76831e7a-3504-4eb5-b2ca-d913cfa7f8b5",
     "showTitle": false,
     "title": ""
    }
   },
   "outputs": [
    {
     "output_type": "display_data",
     "data": {
      "image/png": "[encoded data removed]",
      "text/plain": [
       "<Figure size 800x600 with 1 Axes>"
      ]
     },
     "metadata": {},
     "output_type": "display_data"
    },
    {
     "output_type": "display_data",
     "data": {
      "image/png": "[encoded data removed]",
      "text/plain": [
       "<Figure size 800x600 with 1 Axes>"
      ]
     },
     "metadata": {},
     "output_type": "display_data"
    },
    {
     "output_type": "display_data",
     "data": {
      "image/png": "[encoded data removed]",
      "text/plain": [
       "<Figure size 800x600 with 1 Axes>"
      ]
     },
     "metadata": {},
     "output_type": "display_data"
    }
   ],
   "source": [
    "import matplotlib.pyplot as plt\n",
    "\n",
    "# Select the columns for visualization\n",
    "selected_columns = ['1985', '1990', '1995']\n",
    "\n",
    "# Iterate through each selected column and create a box plot\n",
    "for column in selected_columns:\n",
    "    # Convert the column to a Pandas series for plotting\n",
    "    data = attainment.select(column).dropna().toPandas()[column]\n",
    "    \n",
    "    # Create a box plot\n",
    "    plt.figure(figsize=(8, 6))\n",
    "    plt.boxplot(data, vert=False)\n",
    "    plt.xlabel(column)\n",
    "    plt.title(f'Boxplot of {column}')\n",
    "    plt.show()"
   ]
  },
  {
   "cell_type": "code",
   "execution_count": 0,
   "metadata": {
    "application/vnd.databricks.v1+cell": {
     "cellMetadata": {
      "byteLimit": 2048000,
      "rowLimit": 10000
     },
     "inputWidgets": {},
     "nuid": "e8e41ee6-bbec-41ef-8799-72f1405ccc85",
     "showTitle": false,
     "title": ""
    }
   },
   "outputs": [],
   "source": [
    "# Define the path to save the DataFrame within the mounted storage\n",
    "output_path = \"/mnt/IkigaiGuide/ikigai-transformed-data/attainment\"\n",
    "\n",
    "# Write the updated DataFrame as a CSV file to the mounted Blob Storage\n",
    "attainment.coalesce(1).write.mode(\"overwrite\").option(\"header\", \"true\").csv(output_path)"
   ]
  },
  {
   "cell_type": "code",
   "execution_count": 0,
   "metadata": {
    "application/vnd.databricks.v1+cell": {
     "cellMetadata": {
      "byteLimit": 2048000,
      "rowLimit": 10000
     },
     "inputWidgets": {},
     "nuid": "66ec9f82-31c1-4e81-b9a8-cc75bce2daea",
     "showTitle": false,
     "title": ""
    }
   },
   "outputs": [
    {
     "output_type": "stream",
     "name": "stdout",
     "output_type": "stream",
     "text": [
      "+--------------------+--------------------+\n|         school_name|             country|\n+--------------------+--------------------+\n|  Harvard University|United States of ...|\n|California Instit...|United States of ...|\n|Massachusetts Ins...|United States of ...|\n| Stanford University|United States of ...|\n|Princeton University|United States of ...|\n|University of Cam...|      United Kingdom|\n|University of Oxford|      United Kingdom|\n|University of Cal...|United States of ...|\n|Imperial College ...|      United Kingdom|\n|     Yale University|United States of ...|\n|University of Cal...|United States of ...|\n|University of Chi...|United States of ...|\n|Johns Hopkins Uni...|United States of ...|\n|  Cornell University|United States of ...|\n|ETH Zurich – Swis...|         Switzerland|\n|University of Mic...|United States of ...|\n|University of Tor...|              Canada|\n| Columbia University|United States of ...|\n|University of Pen...|United States of ...|\n|Carnegie Mellon U...|United States of ...|\n+--------------------+--------------------+\nonly showing top 20 rows\n\n"
     ]
    }
   ],
   "source": [
    "# Adjusted file path to point to the specific file inside the ikigai-raw-data folder\n",
    "file_path = \"/mnt/IkigaiGuide/ikigai-raw-data/school_and_country.csv\"\n",
    "\n",
    "# Load the dataset\n",
    "school_and_country = spark.read.option(\"header\", \"true\").option(\"inferSchema\", \"true\").csv(file_path)\n",
    "\n",
    "# Display the first few rows of the DataFrame to understand its structure\n",
    "school_and_country.show()"
   ]
  },
  {
   "cell_type": "code",
   "execution_count": 0,
   "metadata": {
    "application/vnd.databricks.v1+cell": {
     "cellMetadata": {
      "byteLimit": 2048000,
      "rowLimit": 10000
     },
     "inputWidgets": {},
     "nuid": "5549bc56-a1da-4c5d-a2eb-44ee681ec65f",
     "showTitle": false,
     "title": ""
    }
   },
   "outputs": [
    {
     "output_type": "stream",
     "name": "stdout",
     "output_type": "stream",
     "text": [
      "+-------+--------------------+--------------------+\n|summary|         school_name|             country|\n+-------+--------------------+--------------------+\n|  count|                 818|                 818|\n|   mean|                NULL|                NULL|\n| stddev|                NULL|                NULL|\n|    min|AGH University of...|           Argentina|\n|    max|   Örebro University|United States of ...|\n+-------+--------------------+--------------------+\n\n"
     ]
    }
   ],
   "source": [
    "school_and_country.describe().show()"
   ]
  },
  {
   "cell_type": "code",
   "execution_count": 0,
   "metadata": {
    "application/vnd.databricks.v1+cell": {
     "cellMetadata": {
      "byteLimit": 2048000,
      "rowLimit": 10000
     },
     "inputWidgets": {},
     "nuid": "c4b43cac-2aeb-4ca1-be44-3b90abeaadd1",
     "showTitle": false,
     "title": ""
    }
   },
   "outputs": [
    {
     "output_type": "execute_result",
     "data": {
      "text/plain": [
       "[('school_name', 'string'), ('country', 'string')]"
      ]
     },
     "execution_count": 48,
     "metadata": {},
     "output_type": "execute_result"
    }
   ],
   "source": [
    "school_and_country.dtypes"
   ]
  },
  {
   "cell_type": "code",
   "execution_count": 0,
   "metadata": {
    "application/vnd.databricks.v1+cell": {
     "cellMetadata": {
      "byteLimit": 2048000,
      "rowLimit": 10000
     },
     "inputWidgets": {},
     "nuid": "a2a2a708-c1b5-4280-968d-4cafc27f6ef2",
     "showTitle": false,
     "title": ""
    }
   },
   "outputs": [
    {
     "output_type": "stream",
     "name": "stdout",
     "output_type": "stream",
     "text": [
      "+-----------+-------+\n|school_name|country|\n+-----------+-------+\n|          0|      0|\n+-----------+-------+\n\n"
     ]
    }
   ],
   "source": [
    "from pyspark.sql.functions import col, sum\n",
    "\n",
    "# Count the missing values for each column\n",
    "missing_values = school_and_country.select([sum(col(column).isNull().cast(\"int\")).alias(column) for column in school_and_country.columns])\n",
    "\n",
    "# Show the missing values count\n",
    "missing_values.show()"
   ]
  },
  {
   "cell_type": "code",
   "execution_count": 0,
   "metadata": {
    "application/vnd.databricks.v1+cell": {
     "cellMetadata": {
      "byteLimit": 2048000,
      "rowLimit": 10000
     },
     "inputWidgets": {},
     "nuid": "fd8b29bd-ab72-4681-8eb2-49efacd24c91",
     "showTitle": false,
     "title": ""
    }
   },
   "outputs": [],
   "source": [
    "# Define the path to save the DataFrame within the mounted storage\n",
    "output_path = \"/mnt/IkigaiGuide/ikigai-transformed-data/school_and_country\"\n",
    "\n",
    "# Write the updated DataFrame as a CSV file to the mounted Blob Storage\n",
    "school_and_country.coalesce(1).write.mode(\"overwrite\").option(\"header\", \"true\").csv(output_path)"
   ]
  },
  {
   "cell_type": "code",
   "execution_count": 0,
   "metadata": {
    "application/vnd.databricks.v1+cell": {
     "cellMetadata": {
      "byteLimit": 2048000,
      "rowLimit": 10000
     },
     "inputWidgets": {},
     "nuid": "b2d173f4-f7e5-42b2-b352-32b464e4073c",
     "showTitle": false,
     "title": ""
    }
   },
   "outputs": [
    {
     "output_type": "stream",
     "name": "stdout",
     "output_type": "stream",
     "text": [
      "+----------+--------------------+-------------+-----------+------+-----+-----+-----+-----+-----+----+\n|world_rank|     university_name|national_rank|total_score|alumni|award| hici|   ns|  pub|  pcp|year|\n+----------+--------------------+-------------+-----------+------+-----+-----+-----+-----+-----+----+\n|         1|  Harvard University|            1|      100.0| 100.0|100.0|100.0|100.0|100.0| 72.4|2005|\n|         2|University of Cam...|            1|       73.6|  99.8| 93.4| 53.3| 56.6| 70.9| 66.9|2005|\n|         3| Stanford University|            2|       73.4|  41.1| 72.2| 88.5| 70.9| 72.3| 65.0|2005|\n|         4|University of Cal...|            3|       72.8|  71.8| 76.0| 69.4| 73.9| 72.2| 52.7|2005|\n|         5|Massachusetts Ins...|            4|       70.1|  74.0| 80.6| 66.7| 65.8| 64.3| 53.0|2005|\n|         6|California Instit...|            5|       67.1|  59.2| 68.6| 59.8| 65.8| 52.5|100.0|2005|\n|         7| Columbia University|            6|       62.3|  79.4| 60.6| 56.1| 54.2| 69.5| 45.4|2005|\n|         8|Princeton University|            7|       60.9|  63.4| 76.8| 60.9| 48.7| 48.5| 59.1|2005|\n|         9|University of Chi...|            8|       60.1|  75.6| 81.9| 50.3| 44.7| 56.4| 42.2|2005|\n|        10|University of Oxford|            2|       59.7|  64.3| 59.1| 48.4| 55.6| 68.4| 53.2|2005|\n|        11|     Yale University|            9|       56.9|  52.1| 44.5| 60.3| 57.2| 63.9| 49.3|2005|\n|        12|  Cornell University|           10|       54.6|  46.5| 52.4| 55.0| 48.8| 66.3| 39.8|2005|\n|        13|University of Cal...|           11|       51.0|  17.7| 34.7| 59.8| 56.5| 64.5| 46.6|2005|\n|        14|University of Cal...|           12|       50.6|  27.3| 32.8| 56.7| 50.1| 75.6| 34.3|2005|\n|        15|University of Pen...|           13|       50.2|  35.5| 35.1| 56.7| 42.9| 71.8| 39.1|2005|\n|        16|University of Wis...|           14|       49.2|  43.0| 36.3| 52.1| 46.3| 68.7| 29.0|2005|\n|        17|University of Was...|           15|       48.4|  28.8| 32.4| 53.9| 47.1| 73.8| 27.2|2005|\n|        18|University of Cal...|           16|       47.8|   0.0| 37.6| 55.6| 57.9| 58.8| 45.2|2005|\n|        19|The Johns Hopkins...|           17|       46.9|  51.4| 28.3| 41.6| 52.2| 67.7| 24.9|2005|\n|        20|The University of...|            1|       46.7|  36.0| 14.4| 38.5| 52.1| 86.5| 34.7|2005|\n+----------+--------------------+-------------+-----------+------+-----+-----+-----+-----+-----+----+\nonly showing top 20 rows\n\n"
     ]
    }
   ],
   "source": [
    "# Adjusted file path to point to the specific file inside the ikigai-raw-data folder\n",
    "file_path = \"/mnt/IkigaiGuide/ikigai-raw-data/shanghaiData.csv\"\n",
    "\n",
    "# Load the dataset\n",
    "shanghaiData = spark.read.option(\"header\", \"true\").option(\"inferSchema\", \"true\").csv(file_path)\n",
    "\n",
    "# Display the first few rows of the DataFrame to understand its structure\n",
    "shanghaiData.show()"
   ]
  },
  {
   "cell_type": "code",
   "execution_count": 0,
   "metadata": {
    "application/vnd.databricks.v1+cell": {
     "cellMetadata": {
      "byteLimit": 2048000,
      "rowLimit": 10000
     },
     "inputWidgets": {},
     "nuid": "46892b04-951c-481e-9f76-f7f96b034de8",
     "showTitle": false,
     "title": ""
    }
   },
   "outputs": [
    {
     "output_type": "stream",
     "name": "stdout",
     "output_type": "stream",
     "text": [
      "+-------+------------------+-------------------+------------------+------------------+------------------+------------------+------------------+------------------+------------------+------------------+------------------+\n|summary|        world_rank|    university_name|     national_rank|       total_score|            alumni|             award|              hici|                ns|               pub|               pcp|              year|\n+-------+------------------+-------------------+------------------+------------------+------------------+------------------+------------------+------------------+------------------+------------------+------------------+\n|  count|              4897|               4896|              4896|              1101|              4896|              4895|              4895|              4875|              4895|              4895|              4897|\n|   mean|50.351179673321234|               NULL|11.796068796068797|36.383469573115335| 9.161723856209214|7.6919101123596025| 16.22149131767114|16.078502564102582| 38.25464759959144|21.242328907047998|2009.6585664692668|\n| stddev|28.758398741115144|               NULL|14.794313905477376|13.557185922341583|14.140636297674153|15.494110166939096|14.382709525273299|12.511529250709762|13.050808508721802|  9.25435129379218| 3.197576285986066|\n|    min|                 1| Aalborg University|                 1|              23.5|               0.0|               0.0|               0.0|               0.0|               7.3|               8.3|              2005|\n|    max|                99|Zhejiang University|            91-119|             100.0|             100.0|             100.0|             100.0|             100.0|             100.0|             100.0|              2015|\n+-------+------------------+-------------------+------------------+------------------+------------------+------------------+------------------+------------------+------------------+------------------+------------------+\n\n"
     ]
    }
   ],
   "source": [
    "shanghaiData.describe().show()"
   ]
  },
  {
   "cell_type": "code",
   "execution_count": 0,
   "metadata": {
    "application/vnd.databricks.v1+cell": {
     "cellMetadata": {
      "byteLimit": 2048000,
      "rowLimit": 10000
     },
     "inputWidgets": {},
     "nuid": "81e292fc-7270-4887-9703-f0e10a8bbb5b",
     "showTitle": false,
     "title": ""
    }
   },
   "outputs": [
    {
     "output_type": "execute_result",
     "data": {
      "text/plain": [
       "[('world_rank', 'string'),\n",
       " ('university_name', 'string'),\n",
       " ('national_rank', 'string'),\n",
       " ('total_score', 'double'),\n",
       " ('alumni', 'double'),\n",
       " ('award', 'double'),\n",
       " ('hici', 'double'),\n",
       " ('ns', 'double'),\n",
       " ('pub', 'double'),\n",
       " ('pcp', 'double'),\n",
       " ('year', 'int')]"
      ]
     },
     "execution_count": 53,
     "metadata": {},
     "output_type": "execute_result"
    }
   ],
   "source": [
    "shanghaiData.dtypes"
   ]
  },
  {
   "cell_type": "code",
   "execution_count": 0,
   "metadata": {
    "application/vnd.databricks.v1+cell": {
     "cellMetadata": {
      "byteLimit": 2048000,
      "rowLimit": 10000
     },
     "inputWidgets": {},
     "nuid": "ab22dffb-7c61-4f4d-8a0c-b12603d1fe4c",
     "showTitle": false,
     "title": ""
    }
   },
   "outputs": [
    {
     "output_type": "stream",
     "name": "stdout",
     "output_type": "stream",
     "text": [
      "+----------+---------------+-------------+-----------+------+-----+----+---+---+---+----+\n|world_rank|university_name|national_rank|total_score|alumni|award|hici| ns|pub|pcp|year|\n+----------+---------------+-------------+-----------+------+-----+----+---+---+---+----+\n|         0|              1|            1|       3796|     1|    2|   2| 22|  2|  2|   0|\n+----------+---------------+-------------+-----------+------+-----+----+---+---+---+----+\n\n"
     ]
    }
   ],
   "source": [
    "from pyspark.sql.functions import col, sum\n",
    "\n",
    "missing_values = shanghaiData.select([sum(col(c).isNull().cast(\"int\")).alias(c) for c in shanghaiData.columns])\n",
    "missing_values.show()"
   ]
  },
  {
   "cell_type": "code",
   "execution_count": 0,
   "metadata": {
    "application/vnd.databricks.v1+cell": {
     "cellMetadata": {
      "byteLimit": 2048000,
      "rowLimit": 10000
     },
     "inputWidgets": {},
     "nuid": "0e83c012-d7ca-46ef-879e-eb2a24c4d7a6",
     "showTitle": false,
     "title": ""
    }
   },
   "outputs": [
    {
     "output_type": "stream",
     "name": "stdout",
     "output_type": "stream",
     "text": [
      "Total number of rows: 4897\nTotal number of columns: 11\n"
     ]
    }
   ],
   "source": [
    "# Count the total number of rows\n",
    "total_rows = shanghaiData.count()\n",
    "\n",
    "# Get the number of columns\n",
    "total_columns = len(shanghaiData.columns)\n",
    "\n",
    "# Print the results\n",
    "print(\"Total number of rows:\", total_rows)\n",
    "print(\"Total number of columns:\", total_columns)"
   ]
  },
  {
   "cell_type": "code",
   "execution_count": 0,
   "metadata": {
    "application/vnd.databricks.v1+cell": {
     "cellMetadata": {
      "byteLimit": 2048000,
      "rowLimit": 10000
     },
     "inputWidgets": {},
     "nuid": "5b736edc-7dd1-472d-8b4a-b2fc60ffa216",
     "showTitle": false,
     "title": ""
    }
   },
   "outputs": [
    {
     "output_type": "stream",
     "name": "stdout",
     "output_type": "stream",
     "text": [
      "+----------+---------------+-------------+-----------+------+-----+----+----+----+----+----+\n|world_rank|university_name|national_rank|total_score|alumni|award|hici|ns  |pub |pcp |year|\n+----------+---------------+-------------+-----------+------+-----+----+----+----+----+----+\n|99        |NULL           |NULL         |NULL       |NULL  |NULL |NULL|NULL|NULL|NULL|2013|\n+----------+---------------+-------------+-----------+------+-----+----+----+----+----+----+\n\n"
     ]
    }
   ],
   "source": [
    "missing_university_rows = shanghaiData.filter(col(\"university_name\").isNull())\n",
    "missing_university_rows.show(truncate=False)"
   ]
  },
  {
   "cell_type": "code",
   "execution_count": 0,
   "metadata": {
    "application/vnd.databricks.v1+cell": {
     "cellMetadata": {
      "byteLimit": 2048000,
      "rowLimit": 10000
     },
     "inputWidgets": {},
     "nuid": "2fb02d8a-8ff0-4e3a-ac89-f62ace5a90a7",
     "showTitle": false,
     "title": ""
    }
   },
   "outputs": [],
   "source": [
    "clean_data = shanghaiData.filter(~col(\"university_name\").isNull())"
   ]
  },
  {
   "cell_type": "code",
   "execution_count": 0,
   "metadata": {
    "application/vnd.databricks.v1+cell": {
     "cellMetadata": {
      "byteLimit": 2048000,
      "rowLimit": 10000
     },
     "inputWidgets": {},
     "nuid": "d0f49318-5265-420b-b1f6-0e917d102d83",
     "showTitle": false,
     "title": ""
    }
   },
   "outputs": [
    {
     "output_type": "stream",
     "name": "stdout",
     "output_type": "stream",
     "text": [
      "+----------+---------------+-------------+-----------+------+-----+----+---+---+---+----+\n|world_rank|university_name|national_rank|total_score|alumni|award|hici| ns|pub|pcp|year|\n+----------+---------------+-------------+-----------+------+-----+----+---+---+---+----+\n|         0|              0|            0|       3795|     0|    1|   1| 21|  1|  1|   0|\n+----------+---------------+-------------+-----------+------+-----+----+---+---+---+----+\n\n"
     ]
    }
   ],
   "source": [
    "missing_values = clean_data.select([sum(col(c).isNull().cast(\"int\")).alias(c) for c in clean_data.columns])\n",
    "missing_values.show()"
   ]
  },
  {
   "cell_type": "code",
   "execution_count": 0,
   "metadata": {
    "application/vnd.databricks.v1+cell": {
     "cellMetadata": {
      "byteLimit": 2048000,
      "rowLimit": 10000
     },
     "inputWidgets": {},
     "nuid": "a0a53aab-38d8-427d-a67a-b6ca057e62de",
     "showTitle": false,
     "title": ""
    }
   },
   "outputs": [
    {
     "output_type": "stream",
     "name": "stdout",
     "output_type": "stream",
     "text": [
      "+----------+--------------------+-------------+-----------+------+-----+----+----+----+----+----+\n|world_rank|university_name     |national_rank|total_score|alumni|award|hici|ns  |pub |pcp |year|\n+----------+--------------------+-------------+-----------+------+-----+----+----+----+----+----+\n|201-300   |University of Oregon|86-109       |NULL       |9.0   |NULL |NULL|NULL|NULL|NULL|2012|\n|99        |NULL                |NULL         |NULL       |NULL  |NULL |NULL|NULL|NULL|NULL|2013|\n+----------+--------------------+-------------+-----------+------+-----+----+----+----+----+----+\n\n"
     ]
    }
   ],
   "source": [
    "missing_award_rows = shanghaiData.filter(col(\"award\").isNull())\n",
    "missing_award_rows.show(truncate=False)"
   ]
  },
  {
   "cell_type": "code",
   "execution_count": 0,
   "metadata": {
    "application/vnd.databricks.v1+cell": {
     "cellMetadata": {
      "byteLimit": 2048000,
      "rowLimit": 10000
     },
     "inputWidgets": {},
     "nuid": "4983acfd-45f6-4c62-83ac-7976eebce999",
     "showTitle": false,
     "title": ""
    }
   },
   "outputs": [],
   "source": [
    "shanghaiData = shanghaiData.filter((col(\"award\").isNotNull()) & (col(\"university_name\").isNotNull()))"
   ]
  },
  {
   "cell_type": "code",
   "execution_count": 0,
   "metadata": {
    "application/vnd.databricks.v1+cell": {
     "cellMetadata": {
      "byteLimit": 2048000,
      "rowLimit": 10000
     },
     "inputWidgets": {},
     "nuid": "c2197f82-21cd-4c82-a507-e950087ea451",
     "showTitle": false,
     "title": ""
    }
   },
   "outputs": [
    {
     "output_type": "stream",
     "name": "stdout",
     "output_type": "stream",
     "text": [
      "+----------+-------------------------------------------+-------------+-----------+------+-----+-----+-----+-----+-----+----+\n|world_rank|university_name                            |national_rank|total_score|alumni|award|hici |ns   |pub  |pcp  |year|\n+----------+-------------------------------------------+-------------+-----------+------+-----+-----+-----+-----+-----+----+\n|1         |Harvard University                         |1            |100.0      |100.0 |100.0|100.0|100.0|100.0|72.4 |2005|\n|2         |University of Cambridge                    |1            |73.6       |99.8  |93.4 |53.3 |56.6 |70.9 |66.9 |2005|\n|3         |Stanford University                        |2            |73.4       |41.1  |72.2 |88.5 |70.9 |72.3 |65.0 |2005|\n|4         |University of California, Berkeley         |3            |72.8       |71.8  |76.0 |69.4 |73.9 |72.2 |52.7 |2005|\n|5         |Massachusetts Institute of Technology (MIT)|4            |70.1       |74.0  |80.6 |66.7 |65.8 |64.3 |53.0 |2005|\n|6         |California Institute of Technology         |5            |67.1       |59.2  |68.6 |59.8 |65.8 |52.5 |100.0|2005|\n|7         |Columbia University                        |6            |62.3       |79.4  |60.6 |56.1 |54.2 |69.5 |45.4 |2005|\n|8         |Princeton University                       |7            |60.9       |63.4  |76.8 |60.9 |48.7 |48.5 |59.1 |2005|\n|9         |University of Chicago                      |8            |60.1       |75.6  |81.9 |50.3 |44.7 |56.4 |42.2 |2005|\n|10        |University of Oxford                       |2            |59.7       |64.3  |59.1 |48.4 |55.6 |68.4 |53.2 |2005|\n|11        |Yale University                            |9            |56.9       |52.1  |44.5 |60.3 |57.2 |63.9 |49.3 |2005|\n|12        |Cornell University                         |10           |54.6       |46.5  |52.4 |55.0 |48.8 |66.3 |39.8 |2005|\n|13        |University of California, San Diego        |11           |51.0       |17.7  |34.7 |59.8 |56.5 |64.5 |46.6 |2005|\n|14        |University of California, Los Angeles      |12           |50.6       |27.3  |32.8 |56.7 |50.1 |75.6 |34.3 |2005|\n|15        |University of Pennsylvania                 |13           |50.2       |35.5  |35.1 |56.7 |42.9 |71.8 |39.1 |2005|\n|16        |University of Wisconsin - Madison          |14           |49.2       |43.0  |36.3 |52.1 |46.3 |68.7 |29.0 |2005|\n|17        |University of Washington                   |15           |48.4       |28.8  |32.4 |53.9 |47.1 |73.8 |27.2 |2005|\n|18        |University of California, San Francisco    |16           |47.8       |0.0   |37.6 |55.6 |57.9 |58.8 |45.2 |2005|\n|19        |The Johns Hopkins University               |17           |46.9       |51.4  |28.3 |41.6 |52.2 |67.7 |24.9 |2005|\n|20        |The University of Tokyo                    |1            |46.7       |36.0  |14.4 |38.5 |52.1 |86.5 |34.7 |2005|\n+----------+-------------------------------------------+-------------+-----------+------+-----+-----+-----+-----+-----+----+\nonly showing top 20 rows\n\n"
     ]
    }
   ],
   "source": [
    "shanghaiData.show(truncate=False)"
   ]
  },
  {
   "cell_type": "code",
   "execution_count": 0,
   "metadata": {
    "application/vnd.databricks.v1+cell": {
     "cellMetadata": {
      "byteLimit": 2048000,
      "rowLimit": 10000
     },
     "inputWidgets": {},
     "nuid": "e41742a9-6f23-48e4-93b6-a3661e90d718",
     "showTitle": false,
     "title": ""
    }
   },
   "outputs": [
    {
     "output_type": "stream",
     "name": "stdout",
     "output_type": "stream",
     "text": [
      "+----------+---------------+-------------+-----------+------+-----+----+---+---+---+----+\n|world_rank|university_name|national_rank|total_score|alumni|award|hici| ns|pub|pcp|year|\n+----------+---------------+-------------+-----------+------+-----+----+---+---+---+----+\n|         0|              0|            0|       3794|     0|    0|   0| 20|  0|  0|   0|\n+----------+---------------+-------------+-----------+------+-----+----+---+---+---+----+\n\n"
     ]
    }
   ],
   "source": [
    "from pyspark.sql.functions import col, sum\n",
    "\n",
    "missing_values = shanghaiData.select([sum(col(c).isNull().cast(\"int\")).alias(c) for c in shanghaiData.columns])\n",
    "missing_values.show()"
   ]
  },
  {
   "cell_type": "code",
   "execution_count": 0,
   "metadata": {
    "application/vnd.databricks.v1+cell": {
     "cellMetadata": {
      "byteLimit": 2048000,
      "rowLimit": 10000
     },
     "inputWidgets": {},
     "nuid": "cd9fc032-634e-421f-b04a-7d89675ec578",
     "showTitle": false,
     "title": ""
    }
   },
   "outputs": [],
   "source": [
    "from pyspark.sql.functions import mean\n",
    "\n",
    "# Calculate the mean of the \"ns\" column\n",
    "mean_value = shanghaiData.select(mean(col(\"ns\"))).collect()[0][0]\n",
    "\n",
    "# Fill the missing values in the \"ns\" column with the mean value\n",
    "shanghaiData = shanghaiData.fillna(mean_value, subset=[\"ns\"])"
   ]
  },
  {
   "cell_type": "code",
   "execution_count": 0,
   "metadata": {
    "application/vnd.databricks.v1+cell": {
     "cellMetadata": {
      "byteLimit": 2048000,
      "rowLimit": 10000
     },
     "inputWidgets": {},
     "nuid": "cb117633-3981-4ae7-8441-0674bf3b3f68",
     "showTitle": false,
     "title": ""
    }
   },
   "outputs": [
    {
     "output_type": "stream",
     "name": "stdout",
     "output_type": "stream",
     "text": [
      "+----------+---------------+-------------+-----------+------+-----+----+---+---+---+----+\n|world_rank|university_name|national_rank|total_score|alumni|award|hici| ns|pub|pcp|year|\n+----------+---------------+-------------+-----------+------+-----+----+---+---+---+----+\n|         0|              0|            0|       3794|     0|    0|   0|  0|  0|  0|   0|\n+----------+---------------+-------------+-----------+------+-----+----+---+---+---+----+\n\n"
     ]
    }
   ],
   "source": [
    "from pyspark.sql.functions import col, sum\n",
    "\n",
    "# Remove rows with missing values in \"award\" and \"university_name\" columns\n",
    "shanghaiData = shanghaiData.filter((col(\"award\").isNotNull()) & (col(\"university_name\").isNotNull()))\n",
    "\n",
    "# Count missing values in each column\n",
    "missing_values = shanghaiData.select([sum(col(c).isNull().cast(\"int\")).alias(c) for c in shanghaiData.columns])\n",
    "missing_values.show()"
   ]
  },
  {
   "cell_type": "code",
   "execution_count": 0,
   "metadata": {
    "application/vnd.databricks.v1+cell": {
     "cellMetadata": {
      "byteLimit": 2048000,
      "rowLimit": 10000
     },
     "inputWidgets": {},
     "nuid": "739959fa-4c27-408e-8d3b-ee28eb6b4084",
     "showTitle": false,
     "title": ""
    }
   },
   "outputs": [
    {
     "output_type": "stream",
     "name": "stdout",
     "output_type": "stream",
     "text": [
      "Total number of rows: 4895\nTotal number of columns: 11\n"
     ]
    }
   ],
   "source": [
    "# Count the total number of rows\n",
    "total_rows = shanghaiData.count()\n",
    "\n",
    "# Get the number of columns\n",
    "total_columns = len(shanghaiData.columns)\n",
    "\n",
    "# Print the results\n",
    "print(\"Total number of rows:\", total_rows)\n",
    "print(\"Total number of columns:\", total_columns)"
   ]
  },
  {
   "cell_type": "code",
   "execution_count": 0,
   "metadata": {
    "application/vnd.databricks.v1+cell": {
     "cellMetadata": {
      "byteLimit": 2048000,
      "rowLimit": 10000
     },
     "inputWidgets": {},
     "nuid": "cb1e4b31-8e65-413d-b4ad-f93123bd69fd",
     "showTitle": false,
     "title": ""
    }
   },
   "outputs": [],
   "source": [
    "# Define the path to save the DataFrame within the mounted storage\n",
    "output_path = \"/mnt/IkigaiGuide/ikigai-transformed-data/shanghaiData\"\n",
    "\n",
    "# Write the updated DataFrame as a CSV file to the mounted Blob Storage\n",
    "shanghaiData.coalesce(1).write.mode(\"overwrite\").option(\"header\", \"true\").csv(output_path)"
   ]
  },
  {
   "cell_type": "code",
   "execution_count": 0,
   "metadata": {
    "application/vnd.databricks.v1+cell": {
     "cellMetadata": {
      "byteLimit": 2048000,
      "rowLimit": 10000
     },
     "inputWidgets": {},
     "nuid": "98454d04-858a-4948-967b-e9569a6ee117",
     "showTitle": false,
     "title": ""
    }
   },
   "outputs": [
    {
     "output_type": "stream",
     "name": "stdout",
     "output_type": "stream",
     "text": [
      "+----------+--------------------+--------------------+--------+-------------+--------+---------+------+-----------+------------+-------------------+----------------------+-----------------+----+\n|world_rank|     university_name|             country|teaching|international|research|citations|income|total_score|num_students|student_staff_ratio|international_students|female_male_ratio|year|\n+----------+--------------------+--------------------+--------+-------------+--------+---------+------+-----------+------------+-------------------+----------------------+-----------------+----+\n|         1|  Harvard University|United States of ...|    99.7|         72.4|    98.7|     98.8|  34.5|       96.1|      20,152|                8.9|                   25%|             NULL|2011|\n|         2|California Instit...|United States of ...|    97.7|         54.6|    98.0|     99.9|  83.7|       96.0|       2,243|                6.9|                   27%|          33 : 67|2011|\n|         3|Massachusetts Ins...|United States of ...|    97.8|         82.3|    91.4|     99.9|  87.5|       95.6|      11,074|                9.0|                   33%|          37 : 63|2011|\n|         4| Stanford University|United States of ...|    98.3|         29.5|    98.1|     99.2|  64.3|       94.3|      15,596|                7.8|                   22%|          42 : 58|2011|\n|         5|Princeton University|United States of ...|    90.9|         70.3|    95.4|     99.9|     -|       94.2|       7,929|                8.4|                   27%|          45 : 55|2011|\n|         6|University of Cam...|      United Kingdom|    90.5|         77.7|    94.1|     94.0|  57.0|       91.2|      18,812|               11.8|                   34%|          46 : 54|2011|\n|         6|University of Oxford|      United Kingdom|    88.2|         77.2|    93.9|     95.1|  73.5|       91.2|      19,919|               11.6|                   34%|          46 : 54|2011|\n|         8|University of Cal...|United States of ...|    84.2|         39.6|    99.3|     97.8|     -|       91.1|      36,186|               16.4|                   15%|          50 : 50|2011|\n|         9|Imperial College ...|      United Kingdom|    89.2|         90.0|    94.5|     88.3|  92.9|       90.6|      15,060|               11.7|                   51%|          37 : 63|2011|\n|        10|     Yale University|United States of ...|    92.1|         59.2|    89.7|     91.5|     -|       89.5|      11,751|                4.4|                   20%|          50 : 50|2011|\n|        11|University of Cal...|United States of ...|    83.0|         48.1|    92.9|     93.2|     -|       87.7|      38,206|               10.3|                   15%|          52 : 48|2011|\n|        12|University of Chi...|United States of ...|    79.1|         62.8|    87.9|     96.9|     -|       86.9|      14,221|                6.9|                   21%|          42 : 58|2011|\n|        13|Johns Hopkins Uni...|United States of ...|    80.9|         58.5|    89.2|     92.3| 100.0|       86.4|      15,128|                3.6|                   23%|          50 : 50|2011|\n|        14|  Cornell University|United States of ...|    82.2|         62.4|    88.8|     88.1|  34.7|       83.9|      21,424|               10.2|                   19%|          48 : 52|2011|\n|        15|ETH Zurich – Swis...|         Switzerland|    77.5|         93.7|    87.8|     83.1|     -|       83.4|      18,178|               14.7|                   37%|          31 : 69|2011|\n|        15|University of Mic...|United States of ...|    83.9|         53.3|    89.1|     84.1|  59.6|       83.4|      41,786|                9.0|                   16%|          48 : 52|2011|\n|        17|University of Tor...|              Canada|    75.8|            -|    87.9|     82.2|     -|       82.0|      66,198|               19.5|                   15%|             NULL|2011|\n|        18| Columbia University|United States of ...|    73.8|         90.9|    73.8|     92.6|     -|       81.0|      25,055|                5.9|                   28%|             NULL|2011|\n|        19|University of Pen...|United States of ...|    71.8|         32.9|    82.7|     93.6|  43.7|       79.5|      20,376|                6.5|                   20%|          51 : 49|2011|\n|        20|Carnegie Mellon U...|United States of ...|    70.3|         39.1|    79.3|     95.7|  53.7|       79.3|      11,885|               13.1|                   35%|          39 : 61|2011|\n+----------+--------------------+--------------------+--------+-------------+--------+---------+------+-----------+------------+-------------------+----------------------+-----------------+----+\nonly showing top 20 rows\n\n"
     ]
    }
   ],
   "source": [
    "# Adjusted file path to point to the specific file inside the ikigai-raw-data folder\n",
    "file_path = \"/mnt/IkigaiGuide/ikigai-raw-data/times2011.csv\"\n",
    "\n",
    "# Load the dataset\n",
    "times2011 = spark.read.option(\"header\", \"true\").option(\"inferSchema\", \"true\").csv(file_path)\n",
    "\n",
    "# Display the first few rows of the DataFrame to understand its structure\n",
    "times2011.show()"
   ]
  },
  {
   "cell_type": "code",
   "execution_count": 0,
   "metadata": {
    "application/vnd.databricks.v1+cell": {
     "cellMetadata": {
      "byteLimit": 2048000,
      "rowLimit": 10000
     },
     "inputWidgets": {},
     "nuid": "a862a888-0961-435b-99ac-2a5d93b1bd47",
     "showTitle": false,
     "title": ""
    }
   },
   "outputs": [
    {
     "output_type": "stream",
     "name": "stdout",
     "output_type": "stream",
     "text": [
      "+-------+-----------------+--------------------+-------------+-----------------+------------------+------------------+------------------+-----------------+------------------+-----------------+-------------------+----------------------+-----------------+------------------+\n|summary|       world_rank|     university_name|      country|         teaching|     international|          research|         citations|           income|       total_score|     num_students|student_staff_ratio|international_students|female_male_ratio|              year|\n+-------+-----------------+--------------------+-------------+-----------------+------------------+------------------+------------------+-----------------+------------------+-----------------+-------------------+----------------------+-----------------+------------------+\n|  count|             2603|                2603|         2603|             2603|              2603|              2603|              2603|             2603|              2603|             2544|               2544|                  2536|             2370|              2603|\n|   mean|98.20143884892086|                NULL|         NULL|37.80149827122554| 52.00744024672323| 35.91025739531313| 60.92162888974249|48.97987421383644|59.846128226477894|564.3333333333334| 18.445283018867975|                  NULL|             NULL|2014.0756819054936|\n| stddev|58.09729012131293|                NULL|         NULL|17.60421810430901|22.103824938245253|21.254805091560442|23.073218953081586|21.17993773758706|12.803446297001873|177.2465326412151|  11.45869848189692|                  NULL|             NULL|1.6857328096531514|\n|    min|                1|AGH University of...|    Argentina|              9.9|                 -|               2.9|               1.2|                -|                 -|            1,211|                0.6|                    0%|                -|              2011|\n|    max|              =99|   Örebro University|Unted Kingdom|             99.7|              99.9|              99.4|             100.0|             99.9|              96.1|           96,968|              162.6|                    9%|           9 : 91|              2016|\n+-------+-----------------+--------------------+-------------+-----------------+------------------+------------------+------------------+-----------------+------------------+-----------------+-------------------+----------------------+-----------------+------------------+\n\n"
     ]
    }
   ],
   "source": [
    "times2011.describe().show()"
   ]
  },
  {
   "cell_type": "code",
   "execution_count": 0,
   "metadata": {
    "application/vnd.databricks.v1+cell": {
     "cellMetadata": {
      "byteLimit": 2048000,
      "rowLimit": 10000
     },
     "inputWidgets": {},
     "nuid": "de336b88-7343-4933-83d2-204ae0316d42",
     "showTitle": false,
     "title": ""
    }
   },
   "outputs": [
    {
     "output_type": "execute_result",
     "data": {
      "text/plain": [
       "[('world_rank', 'string'),\n",
       " ('university_name', 'string'),\n",
       " ('country', 'string'),\n",
       " ('teaching', 'double'),\n",
       " ('international', 'string'),\n",
       " ('research', 'double'),\n",
       " ('citations', 'double'),\n",
       " ('income', 'string'),\n",
       " ('total_score', 'string'),\n",
       " ('num_students', 'string'),\n",
       " ('student_staff_ratio', 'double'),\n",
       " ('international_students', 'string'),\n",
       " ('female_male_ratio', 'string'),\n",
       " ('year', 'int')]"
      ]
     },
     "execution_count": 69,
     "metadata": {},
     "output_type": "execute_result"
    }
   ],
   "source": [
    "times2011.dtypes\n"
   ]
  },
  {
   "cell_type": "code",
   "execution_count": 0,
   "metadata": {
    "application/vnd.databricks.v1+cell": {
     "cellMetadata": {
      "byteLimit": 2048000,
      "rowLimit": 10000
     },
     "inputWidgets": {},
     "nuid": "639c261e-a211-49ca-aa3a-0240f2abc0eb",
     "showTitle": false,
     "title": ""
    }
   },
   "outputs": [
    {
     "output_type": "execute_result",
     "data": {
      "text/plain": [
       "2603"
      ]
     },
     "execution_count": 70,
     "metadata": {},
     "output_type": "execute_result"
    }
   ],
   "source": [
    "# Count the number of rows in the updated_times2011 DataFrame\n",
    "row_count = times2011.count()\n",
    "row_count"
   ]
  },
  {
   "cell_type": "code",
   "execution_count": 0,
   "metadata": {
    "application/vnd.databricks.v1+cell": {
     "cellMetadata": {
      "byteLimit": 2048000,
      "rowLimit": 10000
     },
     "inputWidgets": {},
     "nuid": "4f36d163-5dce-45c4-8e98-9532e8bdec4d",
     "showTitle": false,
     "title": ""
    }
   },
   "outputs": [
    {
     "output_type": "stream",
     "name": "stdout",
     "output_type": "stream",
     "text": [
      "+----------+---------------+-------+--------+-------------+--------+---------+------+-----------+------------+-------------------+----------------------+-----------------+----+\n|world_rank|university_name|country|teaching|international|research|citations|income|total_score|num_students|student_staff_ratio|international_students|female_male_ratio|year|\n+----------+---------------+-------+--------+-------------+--------+---------+------+-----------+------------+-------------------+----------------------+-----------------+----+\n|         0|              0|      0|       0|            0|       0|        0|     0|          0|          59|                 59|                    67|              233|   0|\n+----------+---------------+-------+--------+-------------+--------+---------+------+-----------+------------+-------------------+----------------------+-----------------+----+\n\n"
     ]
    }
   ],
   "source": [
    "from pyspark.sql.functions import col, sum\n",
    "\n",
    "missing_values = times2011.select([sum(col(c).isNull().cast(\"int\")).alias(c) for c in times2011.columns])\n",
    "missing_values.show()"
   ]
  },
  {
   "cell_type": "code",
   "execution_count": 0,
   "metadata": {
    "application/vnd.databricks.v1+cell": {
     "cellMetadata": {
      "byteLimit": 2048000,
      "rowLimit": 10000
     },
     "inputWidgets": {},
     "nuid": "8f8bec94-fab9-4fc2-9f79-3ae917937ce6",
     "showTitle": false,
     "title": ""
    }
   },
   "outputs": [
    {
     "output_type": "stream",
     "name": "stdout",
     "output_type": "stream",
     "text": [
      "+-----------------+-----+\n|female_male_ratio|count|\n+-----------------+-----+\n|          37 : 63|    1|\n|          71 : 29|    1|\n|          63 : 37|    1|\n|          29 : 71|    1|\n|          23 : 77|    1|\n|          52 : 48|    1|\n|          70 : 30|    1|\n|          66 : 34|    1|\n|          20 : 80|    1|\n|          12 : 88|    1|\n|          38 : 62|    1|\n|          30 : 70|    1|\n|             NULL|    1|\n|          34 : 66|    1|\n|          64 : 36|    1|\n|          42 : 58|    1|\n|           1 : 99|    1|\n|          22 : 78|    1|\n|          50 : 50|    1|\n|          47 : 53|    1|\n+-----------------+-----+\nonly showing top 20 rows\n\n"
     ]
    }
   ],
   "source": [
    "from pyspark.sql.functions import col\n",
    "\n",
    "# Check the distinct values in the \"female_male_ratio\" column\n",
    "distinct_ratios = times2011.select(col(\"female_male_ratio\")).distinct()\n",
    "\n",
    "# Count the occurrences of each distinct value\n",
    "value_counts = distinct_ratios.groupBy(\"female_male_ratio\").count().orderBy(\"count\", ascending=False)\n",
    "\n",
    "# Display the distinct values and their counts\n",
    "value_counts.show()"
   ]
  },
  {
   "cell_type": "code",
   "execution_count": 0,
   "metadata": {
    "application/vnd.databricks.v1+cell": {
     "cellMetadata": {
      "byteLimit": 2048000,
      "rowLimit": 10000
     },
     "inputWidgets": {},
     "nuid": "962d3f51-efc2-446f-87c7-2bbd6c5e7e90",
     "showTitle": false,
     "title": ""
    }
   },
   "outputs": [],
   "source": [
    "from pyspark.sql.functions import col\n",
    "\n",
    "# Calculate the mode of the \"female_male_ratio\" column\n",
    "mode_values = times2011.groupBy(\"female_male_ratio\").count().orderBy(col(\"count\").desc())\n",
    "mode_value = mode_values.first()[\"female_male_ratio\"]\n",
    "\n",
    "# If mode_value is None, it means there are no unique mode values\n",
    "# In this case, we'll replace missing values with \"Not Available\" string\n",
    "if mode_value is None:\n",
    "    mode_value = \"Not Available\"\n",
    "\n",
    "# Fill the missing values in the \"female_male_ratio\" column with the mode value\n",
    "updated_times2011 = times2011.fillna(mode_value, subset=[\"female_male_ratio\"])"
   ]
  },
  {
   "cell_type": "code",
   "execution_count": 0,
   "metadata": {
    "application/vnd.databricks.v1+cell": {
     "cellMetadata": {
      "byteLimit": 2048000,
      "rowLimit": 10000
     },
     "inputWidgets": {},
     "nuid": "94bb4ac1-37e3-43b1-84c4-ebd0cd2cbc25",
     "showTitle": false,
     "title": ""
    }
   },
   "outputs": [
    {
     "output_type": "execute_result",
     "data": {
      "text/plain": [
       "2603"
      ]
     },
     "execution_count": 74,
     "metadata": {},
     "output_type": "execute_result"
    }
   ],
   "source": [
    "# Count the number of rows in the updated_times2011 DataFrame\n",
    "row_count = updated_times2011.count()\n",
    "row_count"
   ]
  },
  {
   "cell_type": "code",
   "execution_count": 0,
   "metadata": {
    "application/vnd.databricks.v1+cell": {
     "cellMetadata": {
      "byteLimit": 2048000,
      "rowLimit": 10000
     },
     "inputWidgets": {},
     "nuid": "d54ba726-0113-4609-b58a-335b1f5cf6df",
     "showTitle": false,
     "title": ""
    }
   },
   "outputs": [],
   "source": [
    "# Define the path to save the DataFrame within the mounted storage\n",
    "output_path = \"/mnt/IkigaiGuide/ikigai-transformed-data/updated_times2011\"\n",
    "\n",
    "# Write the updated DataFrame as a CSV file to the mounted Blob Storage\n",
    "updated_times2011.coalesce(1).write.mode(\"overwrite\").option(\"header\", \"true\").csv(output_path)"
   ]
  },
  {
   "cell_type": "code",
   "execution_count": 0,
   "metadata": {
    "application/vnd.databricks.v1+cell": {
     "cellMetadata": {
      "byteLimit": 2048000,
      "rowLimit": 10000
     },
     "inputWidgets": {},
     "nuid": "1fd8e0e0-ad3c-4328-b9a4-ba1e979ef0b6",
     "showTitle": false,
     "title": ""
    }
   },
   "outputs": [],
   "source": []
  }
 ],
 "metadata": {
  "application/vnd.databricks.v1+notebook": {
   "dashboards": [],
   "language": "python",
   "notebookMetadata": {
    "pythonIndentUnit": 4
   },
   "notebookName": "TIMES",
   "widgets": {}
  },
  "kernelspec": {
   "display_name": "Python 3 (ipykernel)",
   "language": "python",
   "name": "python3"
  },
  "language_info": {
   "codemirror_mode": {
    "name": "ipython",
    "version": 3
   },
   "file_extension": ".py",
   "mimetype": "text/x-python",
   "name": "python",
   "nbconvert_exporter": "python",
   "pygments_lexer": "ipython3",
   "version": "3.9.13"
  }
 },
 "nbformat": 4,
 "nbformat_minor": 0
}
